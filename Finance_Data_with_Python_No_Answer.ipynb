{
 "cells": [
  {
   "cell_type": "markdown",
   "metadata": {},
   "source": [
    "<p><img alt=\"Colaboratory logo\" height=\"45px\" src=https://www.yuntech.edu.tw/images/mainmenu/about/yuntech_logo.jpg width=\"28\" align=\"left\" hspace=\"10px\" vspace=\"27px\" style=\"margin: 27px 10px\"></p>\n",
    "<h1><font color=\"red\">    金融數據</font>與<font color=\"green\">程式設計</font></h1>\n",
    "\n",
    "\n",
    "<a id='HOME'></a>\n",
    "<h4 style=\"font-weight: bold\"><font color=\"blue\">作者：劉文讓</font></h4>\n",
    "\n",
    "Pandas是Python的一個專門用來做數據分析的套件，也是目前全世界數據分析師最喜歡使用的一套語言。\n",
    "\n",
    "* [0 認識Jupyter Notebook編輯器](#c0)\n",
    "* [1 Pandas的資料類型](#c1)\n",
    "* [2 索引值的運用與資料篩選](#c2)\n",
    "* [3 下載真正的股票資料](#c3)\n",
    "* [4 基本資料分析](#c4)\n",
    "* [5 資料視覺化](#c5)\n",
    "* [補充：操作Excel的寫入與寫出方法](#appendix)"
   ]
  },
  {
   "cell_type": "markdown",
   "metadata": {},
   "source": [
    "------\n",
    "<a id='c0'></a>\n",
    "## 0 認識Jupyter Notebook編輯器\n",
    "[回目錄](#HOME)\n",
    "\n",
    "- **執行程式：**\n",
    "按工具列鈕`►|Run`或按 Shift-Enter 鍵執行完程式後會將游標移到下一個 Cell ，如果下一個 Cell 不存在，即會新增一個 Cell 再移到其中。按 Ctrl-Enter 鍵執行完程式後則游標會停留在原有 Cell。\n",
    "\n",
    "![執行](https://problemsolvingwithpython.com/02-Jupyter-Notebooks/images/run_cell.png)"
   ]
  },
  {
   "cell_type": "markdown",
   "metadata": {},
   "source": [
    "- **常用快捷鍵 (在cell旁邊出現藍色時)：**\n",
    "    - 按下`Shift+Enter`：執行當前的cell並且選到下一個cell\n",
    "    - 按下`a`：在當前選擇的上方新增一個cell\n",
    "    - 按下`b`：在當前選擇的下方新增一個cell\n",
    "    - 按下`x`：剪下當前選擇的cell\n",
    "    - 按下`v`：貼上剛剪下的cell到下方的cell\n",
    "    - 按下`d+d`：刪除當前的cell\n",
    "    - 按下`m`：轉成markerdown模式，可以看到紅色框框內容從code變成markerdown\n",
    "    - 按下`y`：轉回code模式。"
   ]
  },
  {
   "cell_type": "markdown",
   "metadata": {},
   "source": [
    " - **匯入套件：**首先我們要先匯入今天會用到的套件，例如：`Pandas`、`Numpy`、`datetime`、`Pandas_datareader`、`Matplotlib`、`Pyecharts`。"
   ]
  },
  {
   "cell_type": "code",
   "execution_count": 1,
   "metadata": {},
   "outputs": [
    {
     "name": "stderr",
     "output_type": "stream",
     "text": [
      "C:\\Users\\ASUSPC\\anaconda3\\lib\\site-packages\\pandas_datareader\\compat\\__init__.py:7: FutureWarning: pandas.util.testing is deprecated. Use the functions in the public API at pandas.testing instead.\n",
      "  from pandas.util.testing import assert_frame_equal\n"
     ]
    }
   ],
   "source": [
    "#%matplotlib inline\n",
    "import pandas as pd\n",
    "import numpy as np\n",
    "import datetime\n",
    "import pandas_datareader.data as web\n",
    "import matplotlib.pyplot as plt\n",
    "from pyecharts import options as opts   \n",
    "from pyecharts.charts import Kline"
   ]
  },
  {
   "cell_type": "markdown",
   "metadata": {},
   "source": [
    "------\n",
    "<a id='c1'></a>\n",
    "## 1 Pandas的資料類型\n",
    "[回目錄](#HOME)\n",
    "\n",
    "Pandas是一個基於Numpy的package，在處理數據方面非常的好用簡單，在學習pandas之前我們要先知道pandas的兩種特有的資料結構DataFrame與Series。"
   ]
  },
  {
   "cell_type": "markdown",
   "metadata": {},
   "source": [
    "### Series"
   ]
  },
  {
   "cell_type": "markdown",
   "metadata": {},
   "source": [
    "`Series`，是一個類似陣列的資料結構，最簡單的Series格式就是一個一維陣列的資料："
   ]
  },
  {
   "cell_type": "code",
   "execution_count": 2,
   "metadata": {
    "jupyter": {
     "outputs_hidden": false
    }
   },
   "outputs": [
    {
     "name": "stdout",
     "output_type": "stream",
     "text": [
      "0    1\n",
      "1    3\n",
      "2   -5\n",
      "3    6\n",
      "4    8\n",
      "dtype: int64\n"
     ]
    }
   ],
   "source": [
    "s = pd.Series([1,3,-5,6,8])\n",
    "print (s)"
   ]
  },
  {
   "cell_type": "markdown",
   "metadata": {},
   "source": [
    "- 使用日期當作index"
   ]
  },
  {
   "cell_type": "code",
   "execution_count": 3,
   "metadata": {},
   "outputs": [
    {
     "data": {
      "text/plain": [
       "2018-01-01    1\n",
       "2018-01-02    2\n",
       "2018-01-03    3\n",
       "2018-01-04    4\n",
       "2018-01-05    5\n",
       "2018-01-06    6\n",
       "Freq: D, dtype: int64"
      ]
     },
     "execution_count": 3,
     "metadata": {},
     "output_type": "execute_result"
    }
   ],
   "source": [
    "date = pd.date_range('20180101', periods=6)\n",
    "s = pd.Series([1,2,3,4,5,6], index=date)\n",
    "s"
   ]
  },
  {
   "cell_type": "markdown",
   "metadata": {},
   "source": [
    "### DataFrame\n",
    "`DataFrame` 則是二維陣列：就像是我們在使用的excel表格一樣，是一個二維的數據有index和column。\n",
    "\n",
    "- 我們先定義一個字典資料，裡面包含name、year、month、day (各欄位的名稱)，接著將它轉成dataframe的格式並顯示：\n",
    "\n",
    "     - 行(欄)名稱：name、year、month、day\n",
    "     - 列(索引值)名稱：0、1、2、3、4"
   ]
  },
  {
   "cell_type": "code",
   "execution_count": 4,
   "metadata": {},
   "outputs": [
    {
     "data": {
      "text/html": [
       "<div>\n",
       "<style scoped>\n",
       "    .dataframe tbody tr th:only-of-type {\n",
       "        vertical-align: middle;\n",
       "    }\n",
       "\n",
       "    .dataframe tbody tr th {\n",
       "        vertical-align: top;\n",
       "    }\n",
       "\n",
       "    .dataframe thead th {\n",
       "        text-align: right;\n",
       "    }\n",
       "</style>\n",
       "<table border=\"1\" class=\"dataframe\">\n",
       "  <thead>\n",
       "    <tr style=\"text-align: right;\">\n",
       "      <th></th>\n",
       "      <th>name</th>\n",
       "      <th>year</th>\n",
       "      <th>month</th>\n",
       "      <th>day</th>\n",
       "    </tr>\n",
       "  </thead>\n",
       "  <tbody>\n",
       "    <tr>\n",
       "      <th>0</th>\n",
       "      <td>Bob</td>\n",
       "      <td>1996</td>\n",
       "      <td>8</td>\n",
       "      <td>11</td>\n",
       "    </tr>\n",
       "    <tr>\n",
       "      <th>1</th>\n",
       "      <td>Nancy</td>\n",
       "      <td>1997</td>\n",
       "      <td>8</td>\n",
       "      <td>23</td>\n",
       "    </tr>\n",
       "    <tr>\n",
       "      <th>2</th>\n",
       "      <td>Amy</td>\n",
       "      <td>1997</td>\n",
       "      <td>7</td>\n",
       "      <td>8</td>\n",
       "    </tr>\n",
       "    <tr>\n",
       "      <th>3</th>\n",
       "      <td>Elsa</td>\n",
       "      <td>1996</td>\n",
       "      <td>1</td>\n",
       "      <td>3</td>\n",
       "    </tr>\n",
       "    <tr>\n",
       "      <th>4</th>\n",
       "      <td>Jack</td>\n",
       "      <td>1997</td>\n",
       "      <td>12</td>\n",
       "      <td>11</td>\n",
       "    </tr>\n",
       "  </tbody>\n",
       "</table>\n",
       "</div>"
      ],
      "text/plain": [
       "    name  year  month  day\n",
       "0    Bob  1996      8   11\n",
       "1  Nancy  1997      8   23\n",
       "2    Amy  1997      7    8\n",
       "3   Elsa  1996      1    3\n",
       "4   Jack  1997     12   11"
      ]
     },
     "execution_count": 4,
     "metadata": {},
     "output_type": "execute_result"
    }
   ],
   "source": [
    "data = {'name': ['Bob', 'Nancy','Amy','Elsa','Jack'],\n",
    "        'year': [1996, 1997, 1997, 1996, 1997],\n",
    "        'month': [8, 8, 7, 1, 12],\n",
    "        'day':[11,23,8,3,11]}\n",
    "myframe = pd.DataFrame(data)\n",
    "myframe"
   ]
  },
  {
   "cell_type": "markdown",
   "metadata": {},
   "source": [
    "- 亂數產生學期成績資料 (需匯入Numpy套件)："
   ]
  },
  {
   "cell_type": "code",
   "execution_count": 5,
   "metadata": {},
   "outputs": [
    {
     "data": {
      "text/plain": [
       "array([[64, 67, 84, 87],\n",
       "       [87, 29, 41, 56],\n",
       "       [90, 32, 78, 85],\n",
       "       [59, 66, 57, 45],\n",
       "       [97, 92, 29, 40],\n",
       "       [89, 99, 67, 84]])"
      ]
     },
     "execution_count": 5,
     "metadata": {},
     "output_type": "execute_result"
    }
   ],
   "source": [
    "# 產生6*4的陣列\n",
    "np.random.seed(0)\n",
    "scores=np.random.randint(low=20,high=100,size=(6,4))\n",
    "scores"
   ]
  },
  {
   "cell_type": "markdown",
   "metadata": {},
   "source": [
    "建立dataframe資料"
   ]
  },
  {
   "cell_type": "code",
   "execution_count": 6,
   "metadata": {},
   "outputs": [
    {
     "data": {
      "text/html": [
       "<div>\n",
       "<style scoped>\n",
       "    .dataframe tbody tr th:only-of-type {\n",
       "        vertical-align: middle;\n",
       "    }\n",
       "\n",
       "    .dataframe tbody tr th {\n",
       "        vertical-align: top;\n",
       "    }\n",
       "\n",
       "    .dataframe thead th {\n",
       "        text-align: right;\n",
       "    }\n",
       "</style>\n",
       "<table border=\"1\" class=\"dataframe\">\n",
       "  <thead>\n",
       "    <tr style=\"text-align: right;\">\n",
       "      <th></th>\n",
       "      <th>財務管理</th>\n",
       "      <th>投資學</th>\n",
       "      <th>會計學</th>\n",
       "      <th>經濟學</th>\n",
       "    </tr>\n",
       "  </thead>\n",
       "  <tbody>\n",
       "    <tr>\n",
       "      <th>張無忌</th>\n",
       "      <td>64</td>\n",
       "      <td>67</td>\n",
       "      <td>84</td>\n",
       "      <td>87</td>\n",
       "    </tr>\n",
       "    <tr>\n",
       "      <th>趙敏</th>\n",
       "      <td>87</td>\n",
       "      <td>29</td>\n",
       "      <td>41</td>\n",
       "      <td>56</td>\n",
       "    </tr>\n",
       "    <tr>\n",
       "      <th>程靈素</th>\n",
       "      <td>90</td>\n",
       "      <td>32</td>\n",
       "      <td>78</td>\n",
       "      <td>85</td>\n",
       "    </tr>\n",
       "    <tr>\n",
       "      <th>郭靖</th>\n",
       "      <td>59</td>\n",
       "      <td>66</td>\n",
       "      <td>57</td>\n",
       "      <td>45</td>\n",
       "    </tr>\n",
       "    <tr>\n",
       "      <th>令狐沖</th>\n",
       "      <td>97</td>\n",
       "      <td>92</td>\n",
       "      <td>29</td>\n",
       "      <td>40</td>\n",
       "    </tr>\n",
       "    <tr>\n",
       "      <th>黃蓉</th>\n",
       "      <td>89</td>\n",
       "      <td>99</td>\n",
       "      <td>67</td>\n",
       "      <td>84</td>\n",
       "    </tr>\n",
       "  </tbody>\n",
       "</table>\n",
       "</div>"
      ],
      "text/plain": [
       "     財務管理  投資學  會計學  經濟學\n",
       "張無忌    64   67   84   87\n",
       "趙敏     87   29   41   56\n",
       "程靈素    90   32   78   85\n",
       "郭靖     59   66   57   45\n",
       "令狐沖    97   92   29   40\n",
       "黃蓉     89   99   67   84"
      ]
     },
     "execution_count": 6,
     "metadata": {},
     "output_type": "execute_result"
    }
   ],
   "source": [
    "df = pd.DataFrame(scores, index=['張無忌','趙敏','程靈素','郭靖','令狐沖','黃蓉'], columns=['財務管理','投資學','會計學','經濟學'])\n",
    "df"
   ]
  },
  {
   "cell_type": "code",
   "execution_count": 7,
   "metadata": {},
   "outputs": [
    {
     "data": {
      "text/plain": [
       "str"
      ]
     },
     "execution_count": 7,
     "metadata": {},
     "output_type": "execute_result"
    }
   ],
   "source": [
    "aa=str(df.loc[('令狐沖'),('會計學')])\n",
    "type(aa)"
   ]
  },
  {
   "cell_type": "code",
   "execution_count": 8,
   "metadata": {},
   "outputs": [
    {
     "name": "stdout",
     "output_type": "stream",
     "text": [
      "29\n"
     ]
    }
   ],
   "source": [
    "print(aa)"
   ]
  },
  {
   "cell_type": "markdown",
   "metadata": {},
   "source": [
    "- 查看匯入的資料："
   ]
  },
  {
   "cell_type": "markdown",
   "metadata": {},
   "source": [
    "`index`：列(索引值)的名稱\n",
    "\n",
    "`columns`：欄位的名稱\n",
    "\n",
    "`values`：資料內容"
   ]
  },
  {
   "cell_type": "code",
   "execution_count": 9,
   "metadata": {},
   "outputs": [
    {
     "data": {
      "text/plain": [
       "Index(['張無忌', '趙敏', '程靈素', '郭靖', '令狐沖', '黃蓉'], dtype='object')"
      ]
     },
     "execution_count": 9,
     "metadata": {},
     "output_type": "execute_result"
    }
   ],
   "source": [
    "df.index"
   ]
  },
  {
   "cell_type": "code",
   "execution_count": 10,
   "metadata": {},
   "outputs": [
    {
     "data": {
      "text/plain": [
       "Index(['財務管理', '投資學', '會計學', '經濟學'], dtype='object')"
      ]
     },
     "execution_count": 10,
     "metadata": {},
     "output_type": "execute_result"
    }
   ],
   "source": [
    "df.columns"
   ]
  },
  {
   "cell_type": "code",
   "execution_count": 11,
   "metadata": {},
   "outputs": [
    {
     "data": {
      "text/plain": [
       "array([[64, 67, 84, 87],\n",
       "       [87, 29, 41, 56],\n",
       "       [90, 32, 78, 85],\n",
       "       [59, 66, 57, 45],\n",
       "       [97, 92, 29, 40],\n",
       "       [89, 99, 67, 84]])"
      ]
     },
     "execution_count": 11,
     "metadata": {},
     "output_type": "execute_result"
    }
   ],
   "source": [
    "df.values"
   ]
  },
  {
   "cell_type": "markdown",
   "metadata": {},
   "source": [
    "`head` 與 `tail` 可以分別查看資料最前面幾列或最後面幾列："
   ]
  },
  {
   "cell_type": "code",
   "execution_count": 12,
   "metadata": {},
   "outputs": [
    {
     "data": {
      "text/html": [
       "<div>\n",
       "<style scoped>\n",
       "    .dataframe tbody tr th:only-of-type {\n",
       "        vertical-align: middle;\n",
       "    }\n",
       "\n",
       "    .dataframe tbody tr th {\n",
       "        vertical-align: top;\n",
       "    }\n",
       "\n",
       "    .dataframe thead th {\n",
       "        text-align: right;\n",
       "    }\n",
       "</style>\n",
       "<table border=\"1\" class=\"dataframe\">\n",
       "  <thead>\n",
       "    <tr style=\"text-align: right;\">\n",
       "      <th></th>\n",
       "      <th>財務管理</th>\n",
       "      <th>投資學</th>\n",
       "      <th>會計學</th>\n",
       "      <th>經濟學</th>\n",
       "    </tr>\n",
       "  </thead>\n",
       "  <tbody>\n",
       "    <tr>\n",
       "      <th>張無忌</th>\n",
       "      <td>64</td>\n",
       "      <td>67</td>\n",
       "      <td>84</td>\n",
       "      <td>87</td>\n",
       "    </tr>\n",
       "    <tr>\n",
       "      <th>趙敏</th>\n",
       "      <td>87</td>\n",
       "      <td>29</td>\n",
       "      <td>41</td>\n",
       "      <td>56</td>\n",
       "    </tr>\n",
       "    <tr>\n",
       "      <th>程靈素</th>\n",
       "      <td>90</td>\n",
       "      <td>32</td>\n",
       "      <td>78</td>\n",
       "      <td>85</td>\n",
       "    </tr>\n",
       "    <tr>\n",
       "      <th>郭靖</th>\n",
       "      <td>59</td>\n",
       "      <td>66</td>\n",
       "      <td>57</td>\n",
       "      <td>45</td>\n",
       "    </tr>\n",
       "    <tr>\n",
       "      <th>令狐沖</th>\n",
       "      <td>97</td>\n",
       "      <td>92</td>\n",
       "      <td>29</td>\n",
       "      <td>40</td>\n",
       "    </tr>\n",
       "  </tbody>\n",
       "</table>\n",
       "</div>"
      ],
      "text/plain": [
       "     財務管理  投資學  會計學  經濟學\n",
       "張無忌    64   67   84   87\n",
       "趙敏     87   29   41   56\n",
       "程靈素    90   32   78   85\n",
       "郭靖     59   66   57   45\n",
       "令狐沖    97   92   29   40"
      ]
     },
     "execution_count": 12,
     "metadata": {},
     "output_type": "execute_result"
    }
   ],
   "source": [
    "df.head()"
   ]
  },
  {
   "cell_type": "code",
   "execution_count": 13,
   "metadata": {},
   "outputs": [
    {
     "data": {
      "text/html": [
       "<div>\n",
       "<style scoped>\n",
       "    .dataframe tbody tr th:only-of-type {\n",
       "        vertical-align: middle;\n",
       "    }\n",
       "\n",
       "    .dataframe tbody tr th {\n",
       "        vertical-align: top;\n",
       "    }\n",
       "\n",
       "    .dataframe thead th {\n",
       "        text-align: right;\n",
       "    }\n",
       "</style>\n",
       "<table border=\"1\" class=\"dataframe\">\n",
       "  <thead>\n",
       "    <tr style=\"text-align: right;\">\n",
       "      <th></th>\n",
       "      <th>財務管理</th>\n",
       "      <th>投資學</th>\n",
       "      <th>會計學</th>\n",
       "      <th>經濟學</th>\n",
       "    </tr>\n",
       "  </thead>\n",
       "  <tbody>\n",
       "    <tr>\n",
       "      <th>令狐沖</th>\n",
       "      <td>97</td>\n",
       "      <td>92</td>\n",
       "      <td>29</td>\n",
       "      <td>40</td>\n",
       "    </tr>\n",
       "    <tr>\n",
       "      <th>黃蓉</th>\n",
       "      <td>89</td>\n",
       "      <td>99</td>\n",
       "      <td>67</td>\n",
       "      <td>84</td>\n",
       "    </tr>\n",
       "  </tbody>\n",
       "</table>\n",
       "</div>"
      ],
      "text/plain": [
       "     財務管理  投資學  會計學  經濟學\n",
       "令狐沖    97   92   29   40\n",
       "黃蓉     89   99   67   84"
      ]
     },
     "execution_count": 13,
     "metadata": {},
     "output_type": "execute_result"
    }
   ],
   "source": [
    "df.tail(2)"
   ]
  },
  {
   "cell_type": "markdown",
   "metadata": {},
   "source": [
    "------\n",
    "<a id='c2'></a>\n",
    "## **2 索引值的運用與資料篩選**\n",
    "[回目錄](#HOME)"
   ]
  },
  {
   "cell_type": "code",
   "execution_count": 14,
   "metadata": {},
   "outputs": [
    {
     "data": {
      "text/html": [
       "<div>\n",
       "<style scoped>\n",
       "    .dataframe tbody tr th:only-of-type {\n",
       "        vertical-align: middle;\n",
       "    }\n",
       "\n",
       "    .dataframe tbody tr th {\n",
       "        vertical-align: top;\n",
       "    }\n",
       "\n",
       "    .dataframe thead th {\n",
       "        text-align: right;\n",
       "    }\n",
       "</style>\n",
       "<table border=\"1\" class=\"dataframe\">\n",
       "  <thead>\n",
       "    <tr style=\"text-align: right;\">\n",
       "      <th></th>\n",
       "      <th>財務管理</th>\n",
       "      <th>投資學</th>\n",
       "      <th>會計學</th>\n",
       "      <th>經濟學</th>\n",
       "    </tr>\n",
       "  </thead>\n",
       "  <tbody>\n",
       "    <tr>\n",
       "      <th>張無忌</th>\n",
       "      <td>64</td>\n",
       "      <td>67</td>\n",
       "      <td>84</td>\n",
       "      <td>87</td>\n",
       "    </tr>\n",
       "    <tr>\n",
       "      <th>趙敏</th>\n",
       "      <td>87</td>\n",
       "      <td>29</td>\n",
       "      <td>41</td>\n",
       "      <td>56</td>\n",
       "    </tr>\n",
       "    <tr>\n",
       "      <th>程靈素</th>\n",
       "      <td>90</td>\n",
       "      <td>32</td>\n",
       "      <td>78</td>\n",
       "      <td>85</td>\n",
       "    </tr>\n",
       "    <tr>\n",
       "      <th>郭靖</th>\n",
       "      <td>59</td>\n",
       "      <td>66</td>\n",
       "      <td>57</td>\n",
       "      <td>45</td>\n",
       "    </tr>\n",
       "    <tr>\n",
       "      <th>令狐沖</th>\n",
       "      <td>97</td>\n",
       "      <td>92</td>\n",
       "      <td>29</td>\n",
       "      <td>40</td>\n",
       "    </tr>\n",
       "    <tr>\n",
       "      <th>黃蓉</th>\n",
       "      <td>89</td>\n",
       "      <td>99</td>\n",
       "      <td>67</td>\n",
       "      <td>84</td>\n",
       "    </tr>\n",
       "  </tbody>\n",
       "</table>\n",
       "</div>"
      ],
      "text/plain": [
       "     財務管理  投資學  會計學  經濟學\n",
       "張無忌    64   67   84   87\n",
       "趙敏     87   29   41   56\n",
       "程靈素    90   32   78   85\n",
       "郭靖     59   66   57   45\n",
       "令狐沖    97   92   29   40\n",
       "黃蓉     89   99   67   84"
      ]
     },
     "execution_count": 14,
     "metadata": {},
     "output_type": "execute_result"
    }
   ],
   "source": [
    "df"
   ]
  },
  {
   "cell_type": "markdown",
   "metadata": {},
   "source": [
    "- 取出其中一欄資料：\n",
    "\n",
    "例如：查詢全班學生的投資學成績"
   ]
  },
  {
   "cell_type": "code",
   "execution_count": 15,
   "metadata": {},
   "outputs": [
    {
     "data": {
      "text/plain": [
       "張無忌    67\n",
       "趙敏     29\n",
       "程靈素    32\n",
       "郭靖     66\n",
       "令狐沖    92\n",
       "黃蓉     99\n",
       "Name: 投資學, dtype: int32"
      ]
     },
     "execution_count": 15,
     "metadata": {},
     "output_type": "execute_result"
    }
   ],
   "source": [
    "df['投資學']"
   ]
  },
  {
   "cell_type": "code",
   "execution_count": 16,
   "metadata": {},
   "outputs": [
    {
     "data": {
      "text/plain": [
       "張無忌    67\n",
       "趙敏     29\n",
       "程靈素    32\n",
       "郭靖     66\n",
       "令狐沖    92\n",
       "黃蓉     99\n",
       "Name: 投資學, dtype: int32"
      ]
     },
     "execution_count": 16,
     "metadata": {},
     "output_type": "execute_result"
    }
   ],
   "source": [
    "df.投資學"
   ]
  },
  {
   "cell_type": "markdown",
   "metadata": {},
   "source": [
    "- 取出某範圍的列資料：\n",
    "\n",
    "例如：查詢其中幾位同學的四科成績"
   ]
  },
  {
   "cell_type": "code",
   "execution_count": 17,
   "metadata": {},
   "outputs": [
    {
     "data": {
      "text/html": [
       "<div>\n",
       "<style scoped>\n",
       "    .dataframe tbody tr th:only-of-type {\n",
       "        vertical-align: middle;\n",
       "    }\n",
       "\n",
       "    .dataframe tbody tr th {\n",
       "        vertical-align: top;\n",
       "    }\n",
       "\n",
       "    .dataframe thead th {\n",
       "        text-align: right;\n",
       "    }\n",
       "</style>\n",
       "<table border=\"1\" class=\"dataframe\">\n",
       "  <thead>\n",
       "    <tr style=\"text-align: right;\">\n",
       "      <th></th>\n",
       "      <th>財務管理</th>\n",
       "      <th>投資學</th>\n",
       "      <th>會計學</th>\n",
       "      <th>經濟學</th>\n",
       "    </tr>\n",
       "  </thead>\n",
       "  <tbody>\n",
       "    <tr>\n",
       "      <th>張無忌</th>\n",
       "      <td>64</td>\n",
       "      <td>67</td>\n",
       "      <td>84</td>\n",
       "      <td>87</td>\n",
       "    </tr>\n",
       "    <tr>\n",
       "      <th>趙敏</th>\n",
       "      <td>87</td>\n",
       "      <td>29</td>\n",
       "      <td>41</td>\n",
       "      <td>56</td>\n",
       "    </tr>\n",
       "    <tr>\n",
       "      <th>程靈素</th>\n",
       "      <td>90</td>\n",
       "      <td>32</td>\n",
       "      <td>78</td>\n",
       "      <td>85</td>\n",
       "    </tr>\n",
       "  </tbody>\n",
       "</table>\n",
       "</div>"
      ],
      "text/plain": [
       "     財務管理  投資學  會計學  經濟學\n",
       "張無忌    64   67   84   87\n",
       "趙敏     87   29   41   56\n",
       "程靈素    90   32   78   85"
      ]
     },
     "execution_count": 17,
     "metadata": {},
     "output_type": "execute_result"
    }
   ],
   "source": [
    "df[0:3]"
   ]
  },
  {
   "cell_type": "code",
   "execution_count": 18,
   "metadata": {},
   "outputs": [
    {
     "data": {
      "text/html": [
       "<div>\n",
       "<style scoped>\n",
       "    .dataframe tbody tr th:only-of-type {\n",
       "        vertical-align: middle;\n",
       "    }\n",
       "\n",
       "    .dataframe tbody tr th {\n",
       "        vertical-align: top;\n",
       "    }\n",
       "\n",
       "    .dataframe thead th {\n",
       "        text-align: right;\n",
       "    }\n",
       "</style>\n",
       "<table border=\"1\" class=\"dataframe\">\n",
       "  <thead>\n",
       "    <tr style=\"text-align: right;\">\n",
       "      <th></th>\n",
       "      <th>財務管理</th>\n",
       "      <th>投資學</th>\n",
       "      <th>會計學</th>\n",
       "      <th>經濟學</th>\n",
       "    </tr>\n",
       "  </thead>\n",
       "  <tbody>\n",
       "    <tr>\n",
       "      <th>程靈素</th>\n",
       "      <td>90</td>\n",
       "      <td>32</td>\n",
       "      <td>78</td>\n",
       "      <td>85</td>\n",
       "    </tr>\n",
       "    <tr>\n",
       "      <th>郭靖</th>\n",
       "      <td>59</td>\n",
       "      <td>66</td>\n",
       "      <td>57</td>\n",
       "      <td>45</td>\n",
       "    </tr>\n",
       "    <tr>\n",
       "      <th>令狐沖</th>\n",
       "      <td>97</td>\n",
       "      <td>92</td>\n",
       "      <td>29</td>\n",
       "      <td>40</td>\n",
       "    </tr>\n",
       "    <tr>\n",
       "      <th>黃蓉</th>\n",
       "      <td>89</td>\n",
       "      <td>99</td>\n",
       "      <td>67</td>\n",
       "      <td>84</td>\n",
       "    </tr>\n",
       "  </tbody>\n",
       "</table>\n",
       "</div>"
      ],
      "text/plain": [
       "     財務管理  投資學  會計學  經濟學\n",
       "程靈素    90   32   78   85\n",
       "郭靖     59   66   57   45\n",
       "令狐沖    97   92   29   40\n",
       "黃蓉     89   99   67   84"
      ]
     },
     "execution_count": 18,
     "metadata": {},
     "output_type": "execute_result"
    }
   ],
   "source": [
    "df[\"程靈素\":\"黃蓉\"]"
   ]
  },
  {
   "cell_type": "markdown",
   "metadata": {},
   "source": [
    "- 取出特定一筆資料\n",
    "\n",
    "`例如`：查詢令狐沖的會計學成績"
   ]
  },
  {
   "cell_type": "code",
   "execution_count": 19,
   "metadata": {},
   "outputs": [
    {
     "data": {
      "text/plain": [
       "29"
      ]
     },
     "execution_count": 19,
     "metadata": {},
     "output_type": "execute_result"
    }
   ],
   "source": [
    "df[\"會計學\"][\"令狐沖\"]"
   ]
  },
  {
   "cell_type": "markdown",
   "metadata": {},
   "source": [
    "`例如`：查詢某一科多位學生的成績。"
   ]
  },
  {
   "cell_type": "code",
   "execution_count": 20,
   "metadata": {},
   "outputs": [
    {
     "data": {
      "text/plain": [
       "郭靖     57\n",
       "令狐沖    29\n",
       "黃蓉     67\n",
       "Name: 會計學, dtype: int32"
      ]
     },
     "execution_count": 20,
     "metadata": {},
     "output_type": "execute_result"
    }
   ],
   "source": [
    "df[\"會計學\"][3:6]"
   ]
  },
  {
   "cell_type": "code",
   "execution_count": 21,
   "metadata": {},
   "outputs": [
    {
     "data": {
      "text/plain": [
       "郭靖     57\n",
       "令狐沖    29\n",
       "黃蓉     67\n",
       "Name: 會計學, dtype: int32"
      ]
     },
     "execution_count": 21,
     "metadata": {},
     "output_type": "execute_result"
    }
   ],
   "source": [
    "df[\"會計學\"][\"郭靖\":\"黃蓉\"]"
   ]
  },
  {
   "cell_type": "markdown",
   "metadata": {},
   "source": [
    "`例如`：查詢趙敏多科成績。"
   ]
  },
  {
   "cell_type": "code",
   "execution_count": 22,
   "metadata": {},
   "outputs": [
    {
     "data": {
      "text/html": [
       "<div>\n",
       "<style scoped>\n",
       "    .dataframe tbody tr th:only-of-type {\n",
       "        vertical-align: middle;\n",
       "    }\n",
       "\n",
       "    .dataframe tbody tr th {\n",
       "        vertical-align: top;\n",
       "    }\n",
       "\n",
       "    .dataframe thead th {\n",
       "        text-align: right;\n",
       "    }\n",
       "</style>\n",
       "<table border=\"1\" class=\"dataframe\">\n",
       "  <thead>\n",
       "    <tr style=\"text-align: right;\">\n",
       "      <th></th>\n",
       "      <th>會計學</th>\n",
       "      <th>經濟學</th>\n",
       "    </tr>\n",
       "  </thead>\n",
       "  <tbody>\n",
       "    <tr>\n",
       "      <th>趙敏</th>\n",
       "      <td>41</td>\n",
       "      <td>56</td>\n",
       "    </tr>\n",
       "  </tbody>\n",
       "</table>\n",
       "</div>"
      ],
      "text/plain": [
       "    會計學  經濟學\n",
       "趙敏   41   56"
      ]
     },
     "execution_count": 22,
     "metadata": {},
     "output_type": "execute_result"
    }
   ],
   "source": [
    "df[[\"會計學\",\"經濟學\"]][1:2]"
   ]
  },
  {
   "cell_type": "code",
   "execution_count": 23,
   "metadata": {},
   "outputs": [
    {
     "data": {
      "text/html": [
       "<div>\n",
       "<style scoped>\n",
       "    .dataframe tbody tr th:only-of-type {\n",
       "        vertical-align: middle;\n",
       "    }\n",
       "\n",
       "    .dataframe tbody tr th {\n",
       "        vertical-align: top;\n",
       "    }\n",
       "\n",
       "    .dataframe thead th {\n",
       "        text-align: right;\n",
       "    }\n",
       "</style>\n",
       "<table border=\"1\" class=\"dataframe\">\n",
       "  <thead>\n",
       "    <tr style=\"text-align: right;\">\n",
       "      <th></th>\n",
       "      <th>會計學</th>\n",
       "      <th>經濟學</th>\n",
       "    </tr>\n",
       "  </thead>\n",
       "  <tbody>\n",
       "    <tr>\n",
       "      <th>趙敏</th>\n",
       "      <td>41</td>\n",
       "      <td>56</td>\n",
       "    </tr>\n",
       "  </tbody>\n",
       "</table>\n",
       "</div>"
      ],
      "text/plain": [
       "    會計學  經濟學\n",
       "趙敏   41   56"
      ]
     },
     "execution_count": 23,
     "metadata": {},
     "output_type": "execute_result"
    }
   ],
   "source": [
    "df[[\"會計學\",\"經濟學\"]]['趙敏':'趙敏']"
   ]
  },
  {
   "cell_type": "markdown",
   "metadata": {},
   "source": [
    "### `loc` 與 `iloc`定位方法：最推薦的取值方法\n",
    "\n",
    "``````Python\n",
    "df.loc[列的範圍(自訂索引), [行的範圍(自訂索引)]]\n",
    "df.iloc[列的範圍(內建索引), [行的範圍(內建索引)]]\n",
    "``````"
   ]
  },
  {
   "cell_type": "code",
   "execution_count": 24,
   "metadata": {},
   "outputs": [
    {
     "data": {
      "text/html": [
       "<div>\n",
       "<style scoped>\n",
       "    .dataframe tbody tr th:only-of-type {\n",
       "        vertical-align: middle;\n",
       "    }\n",
       "\n",
       "    .dataframe tbody tr th {\n",
       "        vertical-align: top;\n",
       "    }\n",
       "\n",
       "    .dataframe thead th {\n",
       "        text-align: right;\n",
       "    }\n",
       "</style>\n",
       "<table border=\"1\" class=\"dataframe\">\n",
       "  <thead>\n",
       "    <tr style=\"text-align: right;\">\n",
       "      <th></th>\n",
       "      <th>財務管理</th>\n",
       "      <th>投資學</th>\n",
       "      <th>會計學</th>\n",
       "      <th>經濟學</th>\n",
       "    </tr>\n",
       "  </thead>\n",
       "  <tbody>\n",
       "    <tr>\n",
       "      <th>張無忌</th>\n",
       "      <td>64</td>\n",
       "      <td>67</td>\n",
       "      <td>84</td>\n",
       "      <td>87</td>\n",
       "    </tr>\n",
       "    <tr>\n",
       "      <th>趙敏</th>\n",
       "      <td>87</td>\n",
       "      <td>29</td>\n",
       "      <td>41</td>\n",
       "      <td>56</td>\n",
       "    </tr>\n",
       "    <tr>\n",
       "      <th>程靈素</th>\n",
       "      <td>90</td>\n",
       "      <td>32</td>\n",
       "      <td>78</td>\n",
       "      <td>85</td>\n",
       "    </tr>\n",
       "    <tr>\n",
       "      <th>郭靖</th>\n",
       "      <td>59</td>\n",
       "      <td>66</td>\n",
       "      <td>57</td>\n",
       "      <td>45</td>\n",
       "    </tr>\n",
       "    <tr>\n",
       "      <th>令狐沖</th>\n",
       "      <td>97</td>\n",
       "      <td>92</td>\n",
       "      <td>29</td>\n",
       "      <td>40</td>\n",
       "    </tr>\n",
       "    <tr>\n",
       "      <th>黃蓉</th>\n",
       "      <td>89</td>\n",
       "      <td>99</td>\n",
       "      <td>67</td>\n",
       "      <td>84</td>\n",
       "    </tr>\n",
       "  </tbody>\n",
       "</table>\n",
       "</div>"
      ],
      "text/plain": [
       "     財務管理  投資學  會計學  經濟學\n",
       "張無忌    64   67   84   87\n",
       "趙敏     87   29   41   56\n",
       "程靈素    90   32   78   85\n",
       "郭靖     59   66   57   45\n",
       "令狐沖    97   92   29   40\n",
       "黃蓉     89   99   67   84"
      ]
     },
     "execution_count": 24,
     "metadata": {},
     "output_type": "execute_result"
    }
   ],
   "source": [
    "df"
   ]
  },
  {
   "cell_type": "markdown",
   "metadata": {},
   "source": [
    "`例如`：查詢令狐沖的會計學成績\n",
    "\n",
    "只有一列或一行得用括號。"
   ]
  },
  {
   "cell_type": "code",
   "execution_count": 25,
   "metadata": {},
   "outputs": [
    {
     "data": {
      "text/plain": [
       "29"
      ]
     },
     "execution_count": 25,
     "metadata": {},
     "output_type": "execute_result"
    }
   ],
   "source": [
    "df.loc[('令狐沖'),('會計學')]"
   ]
  },
  {
   "cell_type": "code",
   "execution_count": 26,
   "metadata": {},
   "outputs": [
    {
     "data": {
      "text/plain": [
       "29"
      ]
     },
     "execution_count": 26,
     "metadata": {},
     "output_type": "execute_result"
    }
   ],
   "source": [
    "df.iloc[(4),(2)]"
   ]
  },
  {
   "cell_type": "markdown",
   "metadata": {},
   "source": [
    "`例如`：查詢某一科多位學生的成績。"
   ]
  },
  {
   "cell_type": "code",
   "execution_count": 27,
   "metadata": {},
   "outputs": [
    {
     "data": {
      "text/html": [
       "<div>\n",
       "<style scoped>\n",
       "    .dataframe tbody tr th:only-of-type {\n",
       "        vertical-align: middle;\n",
       "    }\n",
       "\n",
       "    .dataframe tbody tr th {\n",
       "        vertical-align: top;\n",
       "    }\n",
       "\n",
       "    .dataframe thead th {\n",
       "        text-align: right;\n",
       "    }\n",
       "</style>\n",
       "<table border=\"1\" class=\"dataframe\">\n",
       "  <thead>\n",
       "    <tr style=\"text-align: right;\">\n",
       "      <th></th>\n",
       "      <th>會計學</th>\n",
       "    </tr>\n",
       "  </thead>\n",
       "  <tbody>\n",
       "    <tr>\n",
       "      <th>郭靖</th>\n",
       "      <td>57</td>\n",
       "    </tr>\n",
       "    <tr>\n",
       "      <th>令狐沖</th>\n",
       "      <td>29</td>\n",
       "    </tr>\n",
       "    <tr>\n",
       "      <th>黃蓉</th>\n",
       "      <td>67</td>\n",
       "    </tr>\n",
       "  </tbody>\n",
       "</table>\n",
       "</div>"
      ],
      "text/plain": [
       "     會計學\n",
       "郭靖    57\n",
       "令狐沖   29\n",
       "黃蓉    67"
      ]
     },
     "execution_count": 27,
     "metadata": {},
     "output_type": "execute_result"
    }
   ],
   "source": [
    "df.loc[\"郭靖\":\"黃蓉\",[\"會計學\"]]"
   ]
  },
  {
   "cell_type": "code",
   "execution_count": 28,
   "metadata": {},
   "outputs": [
    {
     "data": {
      "text/plain": [
       "郭靖     57\n",
       "令狐沖    29\n",
       "黃蓉     67\n",
       "Name: 會計學, dtype: int32"
      ]
     },
     "execution_count": 28,
     "metadata": {},
     "output_type": "execute_result"
    }
   ],
   "source": [
    "df.iloc[3:6,2]"
   ]
  },
  {
   "cell_type": "markdown",
   "metadata": {},
   "source": [
    "`例如`：查詢會計學與經濟學多位學生的成績。"
   ]
  },
  {
   "cell_type": "code",
   "execution_count": 29,
   "metadata": {},
   "outputs": [
    {
     "data": {
      "text/html": [
       "<div>\n",
       "<style scoped>\n",
       "    .dataframe tbody tr th:only-of-type {\n",
       "        vertical-align: middle;\n",
       "    }\n",
       "\n",
       "    .dataframe tbody tr th {\n",
       "        vertical-align: top;\n",
       "    }\n",
       "\n",
       "    .dataframe thead th {\n",
       "        text-align: right;\n",
       "    }\n",
       "</style>\n",
       "<table border=\"1\" class=\"dataframe\">\n",
       "  <thead>\n",
       "    <tr style=\"text-align: right;\">\n",
       "      <th></th>\n",
       "      <th>會計學</th>\n",
       "      <th>經濟學</th>\n",
       "    </tr>\n",
       "  </thead>\n",
       "  <tbody>\n",
       "    <tr>\n",
       "      <th>郭靖</th>\n",
       "      <td>57</td>\n",
       "      <td>45</td>\n",
       "    </tr>\n",
       "    <tr>\n",
       "      <th>令狐沖</th>\n",
       "      <td>29</td>\n",
       "      <td>40</td>\n",
       "    </tr>\n",
       "    <tr>\n",
       "      <th>黃蓉</th>\n",
       "      <td>67</td>\n",
       "      <td>84</td>\n",
       "    </tr>\n",
       "  </tbody>\n",
       "</table>\n",
       "</div>"
      ],
      "text/plain": [
       "     會計學  經濟學\n",
       "郭靖    57   45\n",
       "令狐沖   29   40\n",
       "黃蓉    67   84"
      ]
     },
     "execution_count": 29,
     "metadata": {},
     "output_type": "execute_result"
    }
   ],
   "source": [
    "df.loc[\"郭靖\":\"黃蓉\",[\"會計學\",\"經濟學\"]]"
   ]
  },
  {
   "cell_type": "code",
   "execution_count": 30,
   "metadata": {},
   "outputs": [
    {
     "data": {
      "text/html": [
       "<div>\n",
       "<style scoped>\n",
       "    .dataframe tbody tr th:only-of-type {\n",
       "        vertical-align: middle;\n",
       "    }\n",
       "\n",
       "    .dataframe tbody tr th {\n",
       "        vertical-align: top;\n",
       "    }\n",
       "\n",
       "    .dataframe thead th {\n",
       "        text-align: right;\n",
       "    }\n",
       "</style>\n",
       "<table border=\"1\" class=\"dataframe\">\n",
       "  <thead>\n",
       "    <tr style=\"text-align: right;\">\n",
       "      <th></th>\n",
       "      <th>會計學</th>\n",
       "      <th>經濟學</th>\n",
       "    </tr>\n",
       "  </thead>\n",
       "  <tbody>\n",
       "    <tr>\n",
       "      <th>郭靖</th>\n",
       "      <td>57</td>\n",
       "      <td>45</td>\n",
       "    </tr>\n",
       "    <tr>\n",
       "      <th>令狐沖</th>\n",
       "      <td>29</td>\n",
       "      <td>40</td>\n",
       "    </tr>\n",
       "    <tr>\n",
       "      <th>黃蓉</th>\n",
       "      <td>67</td>\n",
       "      <td>84</td>\n",
       "    </tr>\n",
       "  </tbody>\n",
       "</table>\n",
       "</div>"
      ],
      "text/plain": [
       "     會計學  經濟學\n",
       "郭靖    57   45\n",
       "令狐沖   29   40\n",
       "黃蓉    67   84"
      ]
     },
     "execution_count": 30,
     "metadata": {},
     "output_type": "execute_result"
    }
   ],
   "source": [
    "df.iloc[3:6,[2,3]]"
   ]
  },
  {
   "cell_type": "markdown",
   "metadata": {},
   "source": [
    "`例如`：查詢趙敏多科成績。"
   ]
  },
  {
   "cell_type": "code",
   "execution_count": 31,
   "metadata": {},
   "outputs": [
    {
     "data": {
      "text/plain": [
       "會計學    41\n",
       "經濟學    56\n",
       "Name: 趙敏, dtype: int32"
      ]
     },
     "execution_count": 31,
     "metadata": {},
     "output_type": "execute_result"
    }
   ],
   "source": [
    "df.loc['趙敏',[\"會計學\",\"經濟學\"]]"
   ]
  },
  {
   "cell_type": "code",
   "execution_count": 32,
   "metadata": {},
   "outputs": [
    {
     "data": {
      "text/plain": [
       "會計學    41\n",
       "經濟學    56\n",
       "Name: 趙敏, dtype: int32"
      ]
     },
     "execution_count": 32,
     "metadata": {},
     "output_type": "execute_result"
    }
   ],
   "source": [
    "df.iloc[1,[2,3]]"
   ]
  },
  {
   "cell_type": "markdown",
   "metadata": {},
   "source": [
    "`例如`：查詢座號不連續(趙敏與令狐沖)的同學他們的會計學與經濟學成績。\n",
    "\n",
    "**<font color=\"red\">底下程式是無法執行的：</font>**\n",
    "``````Python\n",
    "df.loc[['趙敏','令狐沖'],[\"會計學\",\"經濟學\"]]\n",
    "``````\n",
    "\n",
    "**<font color=\"blue\">底下程式是可以執行的：</font>**\n",
    "``````Python\n",
    "df.loc[['趙敏','令狐沖'],:]\n",
    "``````"
   ]
  },
  {
   "cell_type": "code",
   "execution_count": 33,
   "metadata": {},
   "outputs": [
    {
     "data": {
      "text/html": [
       "<div>\n",
       "<style scoped>\n",
       "    .dataframe tbody tr th:only-of-type {\n",
       "        vertical-align: middle;\n",
       "    }\n",
       "\n",
       "    .dataframe tbody tr th {\n",
       "        vertical-align: top;\n",
       "    }\n",
       "\n",
       "    .dataframe thead th {\n",
       "        text-align: right;\n",
       "    }\n",
       "</style>\n",
       "<table border=\"1\" class=\"dataframe\">\n",
       "  <thead>\n",
       "    <tr style=\"text-align: right;\">\n",
       "      <th></th>\n",
       "      <th>會計學</th>\n",
       "      <th>經濟學</th>\n",
       "    </tr>\n",
       "  </thead>\n",
       "  <tbody>\n",
       "    <tr>\n",
       "      <th>趙敏</th>\n",
       "      <td>41</td>\n",
       "      <td>56</td>\n",
       "    </tr>\n",
       "    <tr>\n",
       "      <th>令狐沖</th>\n",
       "      <td>29</td>\n",
       "      <td>40</td>\n",
       "    </tr>\n",
       "  </tbody>\n",
       "</table>\n",
       "</div>"
      ],
      "text/plain": [
       "     會計學  經濟學\n",
       "趙敏    41   56\n",
       "令狐沖   29   40"
      ]
     },
     "execution_count": 33,
     "metadata": {},
     "output_type": "execute_result"
    }
   ],
   "source": [
    "df.iloc[[1,4],[2,3]]"
   ]
  },
  {
   "cell_type": "markdown",
   "metadata": {},
   "source": [
    "`例如`：查詢財務管理及格的同學，並列出他們的會計學與經濟學成績。"
   ]
  },
  {
   "cell_type": "code",
   "execution_count": 34,
   "metadata": {},
   "outputs": [
    {
     "data": {
      "text/html": [
       "<div>\n",
       "<style scoped>\n",
       "    .dataframe tbody tr th:only-of-type {\n",
       "        vertical-align: middle;\n",
       "    }\n",
       "\n",
       "    .dataframe tbody tr th {\n",
       "        vertical-align: top;\n",
       "    }\n",
       "\n",
       "    .dataframe thead th {\n",
       "        text-align: right;\n",
       "    }\n",
       "</style>\n",
       "<table border=\"1\" class=\"dataframe\">\n",
       "  <thead>\n",
       "    <tr style=\"text-align: right;\">\n",
       "      <th></th>\n",
       "      <th>會計學</th>\n",
       "      <th>經濟學</th>\n",
       "    </tr>\n",
       "  </thead>\n",
       "  <tbody>\n",
       "    <tr>\n",
       "      <th>張無忌</th>\n",
       "      <td>84</td>\n",
       "      <td>87</td>\n",
       "    </tr>\n",
       "    <tr>\n",
       "      <th>趙敏</th>\n",
       "      <td>41</td>\n",
       "      <td>56</td>\n",
       "    </tr>\n",
       "    <tr>\n",
       "      <th>程靈素</th>\n",
       "      <td>78</td>\n",
       "      <td>85</td>\n",
       "    </tr>\n",
       "    <tr>\n",
       "      <th>令狐沖</th>\n",
       "      <td>29</td>\n",
       "      <td>40</td>\n",
       "    </tr>\n",
       "    <tr>\n",
       "      <th>黃蓉</th>\n",
       "      <td>67</td>\n",
       "      <td>84</td>\n",
       "    </tr>\n",
       "  </tbody>\n",
       "</table>\n",
       "</div>"
      ],
      "text/plain": [
       "     會計學  經濟學\n",
       "張無忌   84   87\n",
       "趙敏    41   56\n",
       "程靈素   78   85\n",
       "令狐沖   29   40\n",
       "黃蓉    67   84"
      ]
     },
     "execution_count": 34,
     "metadata": {},
     "output_type": "execute_result"
    }
   ],
   "source": [
    "df.loc[df.財務管理>=60,[\"會計學\",\"經濟學\"]]"
   ]
  },
  {
   "cell_type": "markdown",
   "metadata": {},
   "source": [
    "------\n",
    "<a id='c3'></a>\n",
    "## **3 下載真正的股票資料**\n",
    "[回目錄](#HOME)\n",
    "\n",
    "資料來源：[Yahoo Finance](https://finance.yahoo.com/)"
   ]
  },
  {
   "cell_type": "markdown",
   "metadata": {},
   "source": [
    "**1. 手動匯入(較累較不推薦)：**\n",
    "\n",
    "    1. 輸入股票代碼 (例如：^TWII, 2330.tw, ^GSPC, AAPL, IBM)\n",
    "    2. 選擇時間範圍\n",
    "    3. 下載(`Download`)檔案(`.csv`)\n",
    "    4. 資料存放在同一資料夾\n",
    "    5. 匯入資料 (`pd.read_csv(\"檔案名稱\")`)"
   ]
  },
  {
   "cell_type": "markdown",
   "metadata": {},
   "source": [
    "**2. 使用pandas-datareader套件(方便且容易)：**\n",
    "\n",
    "    1. 安裝pandas-datareader套件：!pip install pandas-datareader\n",
    "    2. 輸入股票代碼 (例如：^TWII, ^GSPC, AAPL, IBM)\n",
    "    3. 選擇時間範圍\n",
    "    4. 匯入資料，總共會有底下欄位：Open, High, Low, Close, Adj Close,Volume\n",
    "    5. 自動使用日期格式當作索引值"
   ]
  },
  {
   "cell_type": "code",
   "execution_count": 35,
   "metadata": {},
   "outputs": [
    {
     "data": {
      "text/html": [
       "<div>\n",
       "<style scoped>\n",
       "    .dataframe tbody tr th:only-of-type {\n",
       "        vertical-align: middle;\n",
       "    }\n",
       "\n",
       "    .dataframe tbody tr th {\n",
       "        vertical-align: top;\n",
       "    }\n",
       "\n",
       "    .dataframe thead th {\n",
       "        text-align: right;\n",
       "    }\n",
       "</style>\n",
       "<table border=\"1\" class=\"dataframe\">\n",
       "  <thead>\n",
       "    <tr style=\"text-align: right;\">\n",
       "      <th></th>\n",
       "      <th>High</th>\n",
       "      <th>Low</th>\n",
       "      <th>Open</th>\n",
       "      <th>Close</th>\n",
       "      <th>Volume</th>\n",
       "      <th>Adj Close</th>\n",
       "    </tr>\n",
       "    <tr>\n",
       "      <th>Date</th>\n",
       "      <th></th>\n",
       "      <th></th>\n",
       "      <th></th>\n",
       "      <th></th>\n",
       "      <th></th>\n",
       "      <th></th>\n",
       "    </tr>\n",
       "  </thead>\n",
       "  <tbody>\n",
       "    <tr>\n",
       "      <th>2020-01-02</th>\n",
       "      <td>339.0</td>\n",
       "      <td>332.5</td>\n",
       "      <td>332.5</td>\n",
       "      <td>339.0</td>\n",
       "      <td>31754120.0</td>\n",
       "      <td>333.075775</td>\n",
       "    </tr>\n",
       "    <tr>\n",
       "      <th>2020-01-03</th>\n",
       "      <td>345.0</td>\n",
       "      <td>335.5</td>\n",
       "      <td>344.0</td>\n",
       "      <td>339.5</td>\n",
       "      <td>41811268.0</td>\n",
       "      <td>333.567047</td>\n",
       "    </tr>\n",
       "    <tr>\n",
       "      <th>2020-01-06</th>\n",
       "      <td>334.5</td>\n",
       "      <td>332.0</td>\n",
       "      <td>333.0</td>\n",
       "      <td>332.0</td>\n",
       "      <td>45343057.0</td>\n",
       "      <td>326.198120</td>\n",
       "    </tr>\n",
       "    <tr>\n",
       "      <th>2020-01-07</th>\n",
       "      <td>333.0</td>\n",
       "      <td>326.5</td>\n",
       "      <td>332.5</td>\n",
       "      <td>329.5</td>\n",
       "      <td>50879181.0</td>\n",
       "      <td>323.741791</td>\n",
       "    </tr>\n",
       "    <tr>\n",
       "      <th>2020-01-08</th>\n",
       "      <td>333.0</td>\n",
       "      <td>325.0</td>\n",
       "      <td>325.0</td>\n",
       "      <td>329.5</td>\n",
       "      <td>37567748.0</td>\n",
       "      <td>323.741791</td>\n",
       "    </tr>\n",
       "  </tbody>\n",
       "</table>\n",
       "</div>"
      ],
      "text/plain": [
       "             High    Low   Open  Close      Volume   Adj Close\n",
       "Date                                                          \n",
       "2020-01-02  339.0  332.5  332.5  339.0  31754120.0  333.075775\n",
       "2020-01-03  345.0  335.5  344.0  339.5  41811268.0  333.567047\n",
       "2020-01-06  334.5  332.0  333.0  332.0  45343057.0  326.198120\n",
       "2020-01-07  333.0  326.5  332.5  329.5  50879181.0  323.741791\n",
       "2020-01-08  333.0  325.0  325.0  329.5  37567748.0  323.741791"
      ]
     },
     "execution_count": 35,
     "metadata": {},
     "output_type": "execute_result"
    }
   ],
   "source": [
    "開始日=datetime.datetime(2020,1,1)\n",
    "股票代碼='2330.tw'\n",
    "結束日=datetime.datetime(2020,7,31)\n",
    "df=web.DataReader(股票代碼,'yahoo',開始日,結束日)\n",
    "df.head()\n",
    "#df.plot(y='Close',title='Time-series plot',kind='line',legend=False)"
   ]
  },
  {
   "cell_type": "markdown",
   "metadata": {},
   "source": [
    "### **練習 1：資料擷取**\n",
    "1. 請下載台灣加權股價指數資料，資料期間為2020年1月1日至2020年7月1日，並列出前五筆資料。\n",
    "2. 請你列出2020年3月19日及2020年7月27日當天的收盤價(Close)與交易量(Volume)。\n",
    "3. 請你列出台灣加權股價指數收盤價超過12000點的資料。"
   ]
  },
  {
   "cell_type": "code",
   "execution_count": null,
   "metadata": {},
   "outputs": [],
   "source": []
  },
  {
   "cell_type": "markdown",
   "metadata": {},
   "source": [
    "------\n",
    "<a id='c4'></a>\n",
    "## **4 基本資料分析**\n",
    "[回目錄](#HOME)\n"
   ]
  },
  {
   "cell_type": "code",
   "execution_count": 36,
   "metadata": {},
   "outputs": [
    {
     "data": {
      "text/html": [
       "<div>\n",
       "<style scoped>\n",
       "    .dataframe tbody tr th:only-of-type {\n",
       "        vertical-align: middle;\n",
       "    }\n",
       "\n",
       "    .dataframe tbody tr th {\n",
       "        vertical-align: top;\n",
       "    }\n",
       "\n",
       "    .dataframe thead th {\n",
       "        text-align: right;\n",
       "    }\n",
       "</style>\n",
       "<table border=\"1\" class=\"dataframe\">\n",
       "  <thead>\n",
       "    <tr style=\"text-align: right;\">\n",
       "      <th></th>\n",
       "      <th>財務管理</th>\n",
       "      <th>投資學</th>\n",
       "      <th>會計學</th>\n",
       "      <th>經濟學</th>\n",
       "    </tr>\n",
       "  </thead>\n",
       "  <tbody>\n",
       "    <tr>\n",
       "      <th>張無忌</th>\n",
       "      <td>64</td>\n",
       "      <td>67</td>\n",
       "      <td>84</td>\n",
       "      <td>87</td>\n",
       "    </tr>\n",
       "    <tr>\n",
       "      <th>趙敏</th>\n",
       "      <td>87</td>\n",
       "      <td>29</td>\n",
       "      <td>41</td>\n",
       "      <td>56</td>\n",
       "    </tr>\n",
       "    <tr>\n",
       "      <th>程靈素</th>\n",
       "      <td>90</td>\n",
       "      <td>32</td>\n",
       "      <td>78</td>\n",
       "      <td>85</td>\n",
       "    </tr>\n",
       "    <tr>\n",
       "      <th>郭靖</th>\n",
       "      <td>59</td>\n",
       "      <td>66</td>\n",
       "      <td>57</td>\n",
       "      <td>45</td>\n",
       "    </tr>\n",
       "    <tr>\n",
       "      <th>令狐沖</th>\n",
       "      <td>97</td>\n",
       "      <td>92</td>\n",
       "      <td>29</td>\n",
       "      <td>40</td>\n",
       "    </tr>\n",
       "    <tr>\n",
       "      <th>黃蓉</th>\n",
       "      <td>89</td>\n",
       "      <td>99</td>\n",
       "      <td>67</td>\n",
       "      <td>84</td>\n",
       "    </tr>\n",
       "  </tbody>\n",
       "</table>\n",
       "</div>"
      ],
      "text/plain": [
       "     財務管理  投資學  會計學  經濟學\n",
       "張無忌    64   67   84   87\n",
       "趙敏     87   29   41   56\n",
       "程靈素    90   32   78   85\n",
       "郭靖     59   66   57   45\n",
       "令狐沖    97   92   29   40\n",
       "黃蓉     89   99   67   84"
      ]
     },
     "execution_count": 36,
     "metadata": {},
     "output_type": "execute_result"
    }
   ],
   "source": [
    "#scores=np.random.randint(low=30,high=100,size=(6,4))\n",
    "df = pd.DataFrame(scores, index=['張無忌','趙敏','程靈素','郭靖','令狐沖','黃蓉'], columns=['財務管理','投資學','會計學','經濟學'])\n",
    "df"
   ]
  },
  {
   "cell_type": "markdown",
   "metadata": {},
   "source": [
    "### 基本敘述統計量\n",
    "- 平均數 `mean`\n",
    "- 標準差 `std`\n",
    "- 偏態 `skew`\n",
    "- 峰態 `kurt`\n",
    "- 以上所有 `describe`"
   ]
  },
  {
   "cell_type": "markdown",
   "metadata": {},
   "source": [
    "- mean()：平均值"
   ]
  },
  {
   "cell_type": "markdown",
   "metadata": {},
   "source": [
    "每一欄(行)的平均值"
   ]
  },
  {
   "cell_type": "code",
   "execution_count": 37,
   "metadata": {},
   "outputs": [
    {
     "data": {
      "text/plain": [
       "財務管理    81.000000\n",
       "投資學     64.166667\n",
       "會計學     59.333333\n",
       "經濟學     66.166667\n",
       "dtype: float64"
      ]
     },
     "execution_count": 37,
     "metadata": {},
     "output_type": "execute_result"
    }
   ],
   "source": [
    "df.mean()"
   ]
  },
  {
   "cell_type": "code",
   "execution_count": 38,
   "metadata": {},
   "outputs": [
    {
     "data": {
      "text/plain": [
       "財務管理    81.000000\n",
       "投資學     64.166667\n",
       "會計學     59.333333\n",
       "經濟學     66.166667\n",
       "dtype: float64"
      ]
     },
     "execution_count": 38,
     "metadata": {},
     "output_type": "execute_result"
    }
   ],
   "source": [
    "df.mean(0)"
   ]
  },
  {
   "cell_type": "markdown",
   "metadata": {},
   "source": [
    "每一列(筆)的平均值"
   ]
  },
  {
   "cell_type": "code",
   "execution_count": 39,
   "metadata": {},
   "outputs": [
    {
     "data": {
      "text/plain": [
       "張無忌    75.50\n",
       "趙敏     53.25\n",
       "程靈素    71.25\n",
       "郭靖     56.75\n",
       "令狐沖    64.50\n",
       "黃蓉     84.75\n",
       "dtype: float64"
      ]
     },
     "execution_count": 39,
     "metadata": {},
     "output_type": "execute_result"
    }
   ],
   "source": [
    "df.mean(1)"
   ]
  },
  {
   "cell_type": "markdown",
   "metadata": {},
   "source": [
    "特定一個欄位的平均值"
   ]
  },
  {
   "cell_type": "code",
   "execution_count": 40,
   "metadata": {},
   "outputs": [
    {
     "data": {
      "text/plain": [
       "66.16666666666667"
      ]
     },
     "execution_count": 40,
     "metadata": {},
     "output_type": "execute_result"
    }
   ],
   "source": [
    "df.經濟學.mean()"
   ]
  },
  {
   "cell_type": "markdown",
   "metadata": {},
   "source": [
    "某位同學(某筆資料)的四科成績平均"
   ]
  },
  {
   "cell_type": "code",
   "execution_count": 41,
   "metadata": {},
   "outputs": [
    {
     "data": {
      "text/plain": [
       "84.75"
      ]
     },
     "execution_count": 41,
     "metadata": {},
     "output_type": "execute_result"
    }
   ],
   "source": [
    "df.loc['黃蓉',:].mean()"
   ]
  },
  {
   "cell_type": "markdown",
   "metadata": {},
   "source": [
    "列出所有欄位的敘述性統計量"
   ]
  },
  {
   "cell_type": "code",
   "execution_count": 42,
   "metadata": {},
   "outputs": [
    {
     "data": {
      "text/html": [
       "<div>\n",
       "<style scoped>\n",
       "    .dataframe tbody tr th:only-of-type {\n",
       "        vertical-align: middle;\n",
       "    }\n",
       "\n",
       "    .dataframe tbody tr th {\n",
       "        vertical-align: top;\n",
       "    }\n",
       "\n",
       "    .dataframe thead th {\n",
       "        text-align: right;\n",
       "    }\n",
       "</style>\n",
       "<table border=\"1\" class=\"dataframe\">\n",
       "  <thead>\n",
       "    <tr style=\"text-align: right;\">\n",
       "      <th></th>\n",
       "      <th>財務管理</th>\n",
       "      <th>投資學</th>\n",
       "      <th>會計學</th>\n",
       "      <th>經濟學</th>\n",
       "    </tr>\n",
       "  </thead>\n",
       "  <tbody>\n",
       "    <tr>\n",
       "      <th>count</th>\n",
       "      <td>6.000000</td>\n",
       "      <td>6.000000</td>\n",
       "      <td>6.000000</td>\n",
       "      <td>6.000000</td>\n",
       "    </tr>\n",
       "    <tr>\n",
       "      <th>mean</th>\n",
       "      <td>81.000000</td>\n",
       "      <td>64.166667</td>\n",
       "      <td>59.333333</td>\n",
       "      <td>66.166667</td>\n",
       "    </tr>\n",
       "    <tr>\n",
       "      <th>std</th>\n",
       "      <td>15.556349</td>\n",
       "      <td>29.226130</td>\n",
       "      <td>21.341665</td>\n",
       "      <td>21.646401</td>\n",
       "    </tr>\n",
       "    <tr>\n",
       "      <th>min</th>\n",
       "      <td>59.000000</td>\n",
       "      <td>29.000000</td>\n",
       "      <td>29.000000</td>\n",
       "      <td>40.000000</td>\n",
       "    </tr>\n",
       "    <tr>\n",
       "      <th>25%</th>\n",
       "      <td>69.750000</td>\n",
       "      <td>40.500000</td>\n",
       "      <td>45.000000</td>\n",
       "      <td>47.750000</td>\n",
       "    </tr>\n",
       "    <tr>\n",
       "      <th>50%</th>\n",
       "      <td>88.000000</td>\n",
       "      <td>66.500000</td>\n",
       "      <td>62.000000</td>\n",
       "      <td>70.000000</td>\n",
       "    </tr>\n",
       "    <tr>\n",
       "      <th>75%</th>\n",
       "      <td>89.750000</td>\n",
       "      <td>85.750000</td>\n",
       "      <td>75.250000</td>\n",
       "      <td>84.750000</td>\n",
       "    </tr>\n",
       "    <tr>\n",
       "      <th>max</th>\n",
       "      <td>97.000000</td>\n",
       "      <td>99.000000</td>\n",
       "      <td>84.000000</td>\n",
       "      <td>87.000000</td>\n",
       "    </tr>\n",
       "  </tbody>\n",
       "</table>\n",
       "</div>"
      ],
      "text/plain": [
       "            財務管理        投資學        會計學        經濟學\n",
       "count   6.000000   6.000000   6.000000   6.000000\n",
       "mean   81.000000  64.166667  59.333333  66.166667\n",
       "std    15.556349  29.226130  21.341665  21.646401\n",
       "min    59.000000  29.000000  29.000000  40.000000\n",
       "25%    69.750000  40.500000  45.000000  47.750000\n",
       "50%    88.000000  66.500000  62.000000  70.000000\n",
       "75%    89.750000  85.750000  75.250000  84.750000\n",
       "max    97.000000  99.000000  84.000000  87.000000"
      ]
     },
     "execution_count": 42,
     "metadata": {},
     "output_type": "execute_result"
    }
   ],
   "source": [
    "df.describe()"
   ]
  },
  {
   "cell_type": "markdown",
   "metadata": {},
   "source": [
    "### 相關係數 (`corr`)\n",
    "- `data.corr()` 相關係數矩陣\n",
    "- `data.欄位名稱1.corr(data.欄位名稱2)` 指定兩個變數的相關係數"
   ]
  },
  {
   "cell_type": "markdown",
   "metadata": {},
   "source": [
    "四個欄位的相關係數"
   ]
  },
  {
   "cell_type": "code",
   "execution_count": 43,
   "metadata": {},
   "outputs": [
    {
     "data": {
      "text/html": [
       "<div>\n",
       "<style scoped>\n",
       "    .dataframe tbody tr th:only-of-type {\n",
       "        vertical-align: middle;\n",
       "    }\n",
       "\n",
       "    .dataframe tbody tr th {\n",
       "        vertical-align: top;\n",
       "    }\n",
       "\n",
       "    .dataframe thead th {\n",
       "        text-align: right;\n",
       "    }\n",
       "</style>\n",
       "<table border=\"1\" class=\"dataframe\">\n",
       "  <thead>\n",
       "    <tr style=\"text-align: right;\">\n",
       "      <th></th>\n",
       "      <th>財務管理</th>\n",
       "      <th>投資學</th>\n",
       "      <th>會計學</th>\n",
       "      <th>經濟學</th>\n",
       "    </tr>\n",
       "  </thead>\n",
       "  <tbody>\n",
       "    <tr>\n",
       "      <th>財務管理</th>\n",
       "      <td>1.000000</td>\n",
       "      <td>0.059386</td>\n",
       "      <td>-0.442171</td>\n",
       "      <td>-0.033260</td>\n",
       "    </tr>\n",
       "    <tr>\n",
       "      <th>投資學</th>\n",
       "      <td>0.059386</td>\n",
       "      <td>1.000000</td>\n",
       "      <td>-0.149850</td>\n",
       "      <td>-0.105958</td>\n",
       "    </tr>\n",
       "    <tr>\n",
       "      <th>會計學</th>\n",
       "      <td>-0.442171</td>\n",
       "      <td>-0.149850</td>\n",
       "      <td>1.000000</td>\n",
       "      <td>0.879566</td>\n",
       "    </tr>\n",
       "    <tr>\n",
       "      <th>經濟學</th>\n",
       "      <td>-0.033260</td>\n",
       "      <td>-0.105958</td>\n",
       "      <td>0.879566</td>\n",
       "      <td>1.000000</td>\n",
       "    </tr>\n",
       "  </tbody>\n",
       "</table>\n",
       "</div>"
      ],
      "text/plain": [
       "          財務管理       投資學       會計學       經濟學\n",
       "財務管理  1.000000  0.059386 -0.442171 -0.033260\n",
       "投資學   0.059386  1.000000 -0.149850 -0.105958\n",
       "會計學  -0.442171 -0.149850  1.000000  0.879566\n",
       "經濟學  -0.033260 -0.105958  0.879566  1.000000"
      ]
     },
     "execution_count": 43,
     "metadata": {},
     "output_type": "execute_result"
    }
   ],
   "source": [
    "df.corr()"
   ]
  },
  {
   "cell_type": "code",
   "execution_count": 44,
   "metadata": {},
   "outputs": [
    {
     "data": {
      "text/plain": [
       "0.05938609538380586"
      ]
     },
     "execution_count": 44,
     "metadata": {},
     "output_type": "execute_result"
    }
   ],
   "source": [
    "df.財務管理.corr(df.投資學)"
   ]
  },
  {
   "cell_type": "markdown",
   "metadata": {},
   "source": [
    "新產生一個欄位為四科成績的加總"
   ]
  },
  {
   "cell_type": "code",
   "execution_count": 45,
   "metadata": {},
   "outputs": [
    {
     "data": {
      "text/html": [
       "<div>\n",
       "<style scoped>\n",
       "    .dataframe tbody tr th:only-of-type {\n",
       "        vertical-align: middle;\n",
       "    }\n",
       "\n",
       "    .dataframe tbody tr th {\n",
       "        vertical-align: top;\n",
       "    }\n",
       "\n",
       "    .dataframe thead th {\n",
       "        text-align: right;\n",
       "    }\n",
       "</style>\n",
       "<table border=\"1\" class=\"dataframe\">\n",
       "  <thead>\n",
       "    <tr style=\"text-align: right;\">\n",
       "      <th></th>\n",
       "      <th>財務管理</th>\n",
       "      <th>投資學</th>\n",
       "      <th>會計學</th>\n",
       "      <th>經濟學</th>\n",
       "      <th>學期總分</th>\n",
       "    </tr>\n",
       "  </thead>\n",
       "  <tbody>\n",
       "    <tr>\n",
       "      <th>張無忌</th>\n",
       "      <td>64</td>\n",
       "      <td>67</td>\n",
       "      <td>84</td>\n",
       "      <td>87</td>\n",
       "      <td>302</td>\n",
       "    </tr>\n",
       "    <tr>\n",
       "      <th>趙敏</th>\n",
       "      <td>87</td>\n",
       "      <td>29</td>\n",
       "      <td>41</td>\n",
       "      <td>56</td>\n",
       "      <td>213</td>\n",
       "    </tr>\n",
       "    <tr>\n",
       "      <th>程靈素</th>\n",
       "      <td>90</td>\n",
       "      <td>32</td>\n",
       "      <td>78</td>\n",
       "      <td>85</td>\n",
       "      <td>285</td>\n",
       "    </tr>\n",
       "    <tr>\n",
       "      <th>郭靖</th>\n",
       "      <td>59</td>\n",
       "      <td>66</td>\n",
       "      <td>57</td>\n",
       "      <td>45</td>\n",
       "      <td>227</td>\n",
       "    </tr>\n",
       "    <tr>\n",
       "      <th>令狐沖</th>\n",
       "      <td>97</td>\n",
       "      <td>92</td>\n",
       "      <td>29</td>\n",
       "      <td>40</td>\n",
       "      <td>258</td>\n",
       "    </tr>\n",
       "    <tr>\n",
       "      <th>黃蓉</th>\n",
       "      <td>89</td>\n",
       "      <td>99</td>\n",
       "      <td>67</td>\n",
       "      <td>84</td>\n",
       "      <td>339</td>\n",
       "    </tr>\n",
       "  </tbody>\n",
       "</table>\n",
       "</div>"
      ],
      "text/plain": [
       "     財務管理  投資學  會計學  經濟學  學期總分\n",
       "張無忌    64   67   84   87   302\n",
       "趙敏     87   29   41   56   213\n",
       "程靈素    90   32   78   85   285\n",
       "郭靖     59   66   57   45   227\n",
       "令狐沖    97   92   29   40   258\n",
       "黃蓉     89   99   67   84   339"
      ]
     },
     "execution_count": 45,
     "metadata": {},
     "output_type": "execute_result"
    }
   ],
   "source": [
    "df['學期總分']=df[[\"財務管理\", \"投資學\", \"會計學\", \"經濟學\"]].sum(1)\n",
    "df"
   ]
  },
  {
   "cell_type": "markdown",
   "metadata": {},
   "source": [
    "新產生一個欄位為四科成績的平均值"
   ]
  },
  {
   "cell_type": "code",
   "execution_count": 46,
   "metadata": {},
   "outputs": [
    {
     "data": {
      "text/html": [
       "<div>\n",
       "<style scoped>\n",
       "    .dataframe tbody tr th:only-of-type {\n",
       "        vertical-align: middle;\n",
       "    }\n",
       "\n",
       "    .dataframe tbody tr th {\n",
       "        vertical-align: top;\n",
       "    }\n",
       "\n",
       "    .dataframe thead th {\n",
       "        text-align: right;\n",
       "    }\n",
       "</style>\n",
       "<table border=\"1\" class=\"dataframe\">\n",
       "  <thead>\n",
       "    <tr style=\"text-align: right;\">\n",
       "      <th></th>\n",
       "      <th>財務管理</th>\n",
       "      <th>投資學</th>\n",
       "      <th>會計學</th>\n",
       "      <th>經濟學</th>\n",
       "      <th>學期總分</th>\n",
       "      <th>平均分數</th>\n",
       "    </tr>\n",
       "  </thead>\n",
       "  <tbody>\n",
       "    <tr>\n",
       "      <th>張無忌</th>\n",
       "      <td>64</td>\n",
       "      <td>67</td>\n",
       "      <td>84</td>\n",
       "      <td>87</td>\n",
       "      <td>302</td>\n",
       "      <td>75.50</td>\n",
       "    </tr>\n",
       "    <tr>\n",
       "      <th>趙敏</th>\n",
       "      <td>87</td>\n",
       "      <td>29</td>\n",
       "      <td>41</td>\n",
       "      <td>56</td>\n",
       "      <td>213</td>\n",
       "      <td>53.25</td>\n",
       "    </tr>\n",
       "    <tr>\n",
       "      <th>程靈素</th>\n",
       "      <td>90</td>\n",
       "      <td>32</td>\n",
       "      <td>78</td>\n",
       "      <td>85</td>\n",
       "      <td>285</td>\n",
       "      <td>71.25</td>\n",
       "    </tr>\n",
       "    <tr>\n",
       "      <th>郭靖</th>\n",
       "      <td>59</td>\n",
       "      <td>66</td>\n",
       "      <td>57</td>\n",
       "      <td>45</td>\n",
       "      <td>227</td>\n",
       "      <td>56.75</td>\n",
       "    </tr>\n",
       "    <tr>\n",
       "      <th>令狐沖</th>\n",
       "      <td>97</td>\n",
       "      <td>92</td>\n",
       "      <td>29</td>\n",
       "      <td>40</td>\n",
       "      <td>258</td>\n",
       "      <td>64.50</td>\n",
       "    </tr>\n",
       "    <tr>\n",
       "      <th>黃蓉</th>\n",
       "      <td>89</td>\n",
       "      <td>99</td>\n",
       "      <td>67</td>\n",
       "      <td>84</td>\n",
       "      <td>339</td>\n",
       "      <td>84.75</td>\n",
       "    </tr>\n",
       "  </tbody>\n",
       "</table>\n",
       "</div>"
      ],
      "text/plain": [
       "     財務管理  投資學  會計學  經濟學  學期總分   平均分數\n",
       "張無忌    64   67   84   87   302  75.50\n",
       "趙敏     87   29   41   56   213  53.25\n",
       "程靈素    90   32   78   85   285  71.25\n",
       "郭靖     59   66   57   45   227  56.75\n",
       "令狐沖    97   92   29   40   258  64.50\n",
       "黃蓉     89   99   67   84   339  84.75"
      ]
     },
     "execution_count": 46,
     "metadata": {},
     "output_type": "execute_result"
    }
   ],
   "source": [
    "df['平均分數']=df[[\"財務管理\", \"投資學\", \"會計學\", \"經濟學\"]].mean(1)\n",
    "df"
   ]
  },
  {
   "cell_type": "markdown",
   "metadata": {},
   "source": [
    "新產生一個欄位為四科成績的加權總分"
   ]
  },
  {
   "cell_type": "code",
   "execution_count": 47,
   "metadata": {},
   "outputs": [
    {
     "data": {
      "text/html": [
       "<div>\n",
       "<style scoped>\n",
       "    .dataframe tbody tr th:only-of-type {\n",
       "        vertical-align: middle;\n",
       "    }\n",
       "\n",
       "    .dataframe tbody tr th {\n",
       "        vertical-align: top;\n",
       "    }\n",
       "\n",
       "    .dataframe thead th {\n",
       "        text-align: right;\n",
       "    }\n",
       "</style>\n",
       "<table border=\"1\" class=\"dataframe\">\n",
       "  <thead>\n",
       "    <tr style=\"text-align: right;\">\n",
       "      <th></th>\n",
       "      <th>財務管理</th>\n",
       "      <th>投資學</th>\n",
       "      <th>會計學</th>\n",
       "      <th>經濟學</th>\n",
       "      <th>學期總分</th>\n",
       "      <th>平均分數</th>\n",
       "      <th>加權總分</th>\n",
       "    </tr>\n",
       "  </thead>\n",
       "  <tbody>\n",
       "    <tr>\n",
       "      <th>張無忌</th>\n",
       "      <td>64</td>\n",
       "      <td>67</td>\n",
       "      <td>84</td>\n",
       "      <td>87</td>\n",
       "      <td>302</td>\n",
       "      <td>75.50</td>\n",
       "      <td>347.4</td>\n",
       "    </tr>\n",
       "    <tr>\n",
       "      <th>趙敏</th>\n",
       "      <td>87</td>\n",
       "      <td>29</td>\n",
       "      <td>41</td>\n",
       "      <td>56</td>\n",
       "      <td>213</td>\n",
       "      <td>53.25</td>\n",
       "      <td>262.3</td>\n",
       "    </tr>\n",
       "    <tr>\n",
       "      <th>程靈素</th>\n",
       "      <td>90</td>\n",
       "      <td>32</td>\n",
       "      <td>78</td>\n",
       "      <td>85</td>\n",
       "      <td>285</td>\n",
       "      <td>71.25</td>\n",
       "      <td>336.4</td>\n",
       "    </tr>\n",
       "    <tr>\n",
       "      <th>郭靖</th>\n",
       "      <td>59</td>\n",
       "      <td>66</td>\n",
       "      <td>57</td>\n",
       "      <td>45</td>\n",
       "      <td>227</td>\n",
       "      <td>56.75</td>\n",
       "      <td>269.7</td>\n",
       "    </tr>\n",
       "    <tr>\n",
       "      <th>令狐沖</th>\n",
       "      <td>97</td>\n",
       "      <td>92</td>\n",
       "      <td>29</td>\n",
       "      <td>40</td>\n",
       "      <td>258</td>\n",
       "      <td>64.50</td>\n",
       "      <td>324.9</td>\n",
       "    </tr>\n",
       "    <tr>\n",
       "      <th>黃蓉</th>\n",
       "      <td>89</td>\n",
       "      <td>99</td>\n",
       "      <td>67</td>\n",
       "      <td>84</td>\n",
       "      <td>339</td>\n",
       "      <td>84.75</td>\n",
       "      <td>403.3</td>\n",
       "    </tr>\n",
       "  </tbody>\n",
       "</table>\n",
       "</div>"
      ],
      "text/plain": [
       "     財務管理  投資學  會計學  經濟學  學期總分   平均分數   加權總分\n",
       "張無忌    64   67   84   87   302  75.50  347.4\n",
       "趙敏     87   29   41   56   213  53.25  262.3\n",
       "程靈素    90   32   78   85   285  71.25  336.4\n",
       "郭靖     59   66   57   45   227  56.75  269.7\n",
       "令狐沖    97   92   29   40   258  64.50  324.9\n",
       "黃蓉     89   99   67   84   339  84.75  403.3"
      ]
     },
     "execution_count": 47,
     "metadata": {},
     "output_type": "execute_result"
    }
   ],
   "source": [
    "df['加權總分']=df['財務管理']*1.5+df['投資學']*1.2+df['會計學']+df['經濟學']\n",
    "df"
   ]
  },
  {
   "cell_type": "code",
   "execution_count": 48,
   "metadata": {},
   "outputs": [
    {
     "data": {
      "text/html": [
       "<div>\n",
       "<style scoped>\n",
       "    .dataframe tbody tr th:only-of-type {\n",
       "        vertical-align: middle;\n",
       "    }\n",
       "\n",
       "    .dataframe tbody tr th {\n",
       "        vertical-align: top;\n",
       "    }\n",
       "\n",
       "    .dataframe thead th {\n",
       "        text-align: right;\n",
       "    }\n",
       "</style>\n",
       "<table border=\"1\" class=\"dataframe\">\n",
       "  <thead>\n",
       "    <tr style=\"text-align: right;\">\n",
       "      <th></th>\n",
       "      <th>財務管理</th>\n",
       "      <th>投資學</th>\n",
       "      <th>會計學</th>\n",
       "      <th>經濟學</th>\n",
       "      <th>學期總分</th>\n",
       "      <th>平均分數</th>\n",
       "      <th>加權總分</th>\n",
       "      <th>加權平均</th>\n",
       "    </tr>\n",
       "  </thead>\n",
       "  <tbody>\n",
       "    <tr>\n",
       "      <th>張無忌</th>\n",
       "      <td>64</td>\n",
       "      <td>67</td>\n",
       "      <td>84</td>\n",
       "      <td>87</td>\n",
       "      <td>302</td>\n",
       "      <td>75.50</td>\n",
       "      <td>347.4</td>\n",
       "      <td>73.914894</td>\n",
       "    </tr>\n",
       "    <tr>\n",
       "      <th>趙敏</th>\n",
       "      <td>87</td>\n",
       "      <td>29</td>\n",
       "      <td>41</td>\n",
       "      <td>56</td>\n",
       "      <td>213</td>\n",
       "      <td>53.25</td>\n",
       "      <td>262.3</td>\n",
       "      <td>55.808511</td>\n",
       "    </tr>\n",
       "    <tr>\n",
       "      <th>程靈素</th>\n",
       "      <td>90</td>\n",
       "      <td>32</td>\n",
       "      <td>78</td>\n",
       "      <td>85</td>\n",
       "      <td>285</td>\n",
       "      <td>71.25</td>\n",
       "      <td>336.4</td>\n",
       "      <td>71.574468</td>\n",
       "    </tr>\n",
       "    <tr>\n",
       "      <th>郭靖</th>\n",
       "      <td>59</td>\n",
       "      <td>66</td>\n",
       "      <td>57</td>\n",
       "      <td>45</td>\n",
       "      <td>227</td>\n",
       "      <td>56.75</td>\n",
       "      <td>269.7</td>\n",
       "      <td>57.382979</td>\n",
       "    </tr>\n",
       "    <tr>\n",
       "      <th>令狐沖</th>\n",
       "      <td>97</td>\n",
       "      <td>92</td>\n",
       "      <td>29</td>\n",
       "      <td>40</td>\n",
       "      <td>258</td>\n",
       "      <td>64.50</td>\n",
       "      <td>324.9</td>\n",
       "      <td>69.127660</td>\n",
       "    </tr>\n",
       "    <tr>\n",
       "      <th>黃蓉</th>\n",
       "      <td>89</td>\n",
       "      <td>99</td>\n",
       "      <td>67</td>\n",
       "      <td>84</td>\n",
       "      <td>339</td>\n",
       "      <td>84.75</td>\n",
       "      <td>403.3</td>\n",
       "      <td>85.808511</td>\n",
       "    </tr>\n",
       "  </tbody>\n",
       "</table>\n",
       "</div>"
      ],
      "text/plain": [
       "     財務管理  投資學  會計學  經濟學  學期總分   平均分數   加權總分       加權平均\n",
       "張無忌    64   67   84   87   302  75.50  347.4  73.914894\n",
       "趙敏     87   29   41   56   213  53.25  262.3  55.808511\n",
       "程靈素    90   32   78   85   285  71.25  336.4  71.574468\n",
       "郭靖     59   66   57   45   227  56.75  269.7  57.382979\n",
       "令狐沖    97   92   29   40   258  64.50  324.9  69.127660\n",
       "黃蓉     89   99   67   84   339  84.75  403.3  85.808511"
      ]
     },
     "execution_count": 48,
     "metadata": {},
     "output_type": "execute_result"
    }
   ],
   "source": [
    "df['加權平均']=df['加權總分']/4.7\n",
    "df"
   ]
  },
  {
   "cell_type": "markdown",
   "metadata": {},
   "source": [
    "- 排序\n",
    "\n",
    "我們來看全班學期總分最高的同學"
   ]
  },
  {
   "cell_type": "code",
   "execution_count": 49,
   "metadata": {},
   "outputs": [
    {
     "data": {
      "text/html": [
       "<div>\n",
       "<style scoped>\n",
       "    .dataframe tbody tr th:only-of-type {\n",
       "        vertical-align: middle;\n",
       "    }\n",
       "\n",
       "    .dataframe tbody tr th {\n",
       "        vertical-align: top;\n",
       "    }\n",
       "\n",
       "    .dataframe thead th {\n",
       "        text-align: right;\n",
       "    }\n",
       "</style>\n",
       "<table border=\"1\" class=\"dataframe\">\n",
       "  <thead>\n",
       "    <tr style=\"text-align: right;\">\n",
       "      <th></th>\n",
       "      <th>財務管理</th>\n",
       "      <th>投資學</th>\n",
       "      <th>會計學</th>\n",
       "      <th>經濟學</th>\n",
       "      <th>學期總分</th>\n",
       "      <th>平均分數</th>\n",
       "      <th>加權總分</th>\n",
       "      <th>加權平均</th>\n",
       "    </tr>\n",
       "  </thead>\n",
       "  <tbody>\n",
       "    <tr>\n",
       "      <th>黃蓉</th>\n",
       "      <td>89</td>\n",
       "      <td>99</td>\n",
       "      <td>67</td>\n",
       "      <td>84</td>\n",
       "      <td>339</td>\n",
       "      <td>84.75</td>\n",
       "      <td>403.3</td>\n",
       "      <td>85.808511</td>\n",
       "    </tr>\n",
       "    <tr>\n",
       "      <th>張無忌</th>\n",
       "      <td>64</td>\n",
       "      <td>67</td>\n",
       "      <td>84</td>\n",
       "      <td>87</td>\n",
       "      <td>302</td>\n",
       "      <td>75.50</td>\n",
       "      <td>347.4</td>\n",
       "      <td>73.914894</td>\n",
       "    </tr>\n",
       "    <tr>\n",
       "      <th>程靈素</th>\n",
       "      <td>90</td>\n",
       "      <td>32</td>\n",
       "      <td>78</td>\n",
       "      <td>85</td>\n",
       "      <td>285</td>\n",
       "      <td>71.25</td>\n",
       "      <td>336.4</td>\n",
       "      <td>71.574468</td>\n",
       "    </tr>\n",
       "    <tr>\n",
       "      <th>令狐沖</th>\n",
       "      <td>97</td>\n",
       "      <td>92</td>\n",
       "      <td>29</td>\n",
       "      <td>40</td>\n",
       "      <td>258</td>\n",
       "      <td>64.50</td>\n",
       "      <td>324.9</td>\n",
       "      <td>69.127660</td>\n",
       "    </tr>\n",
       "    <tr>\n",
       "      <th>郭靖</th>\n",
       "      <td>59</td>\n",
       "      <td>66</td>\n",
       "      <td>57</td>\n",
       "      <td>45</td>\n",
       "      <td>227</td>\n",
       "      <td>56.75</td>\n",
       "      <td>269.7</td>\n",
       "      <td>57.382979</td>\n",
       "    </tr>\n",
       "    <tr>\n",
       "      <th>趙敏</th>\n",
       "      <td>87</td>\n",
       "      <td>29</td>\n",
       "      <td>41</td>\n",
       "      <td>56</td>\n",
       "      <td>213</td>\n",
       "      <td>53.25</td>\n",
       "      <td>262.3</td>\n",
       "      <td>55.808511</td>\n",
       "    </tr>\n",
       "  </tbody>\n",
       "</table>\n",
       "</div>"
      ],
      "text/plain": [
       "     財務管理  投資學  會計學  經濟學  學期總分   平均分數   加權總分       加權平均\n",
       "黃蓉     89   99   67   84   339  84.75  403.3  85.808511\n",
       "張無忌    64   67   84   87   302  75.50  347.4  73.914894\n",
       "程靈素    90   32   78   85   285  71.25  336.4  71.574468\n",
       "令狐沖    97   92   29   40   258  64.50  324.9  69.127660\n",
       "郭靖     59   66   57   45   227  56.75  269.7  57.382979\n",
       "趙敏     87   29   41   56   213  53.25  262.3  55.808511"
      ]
     },
     "execution_count": 49,
     "metadata": {},
     "output_type": "execute_result"
    }
   ],
   "source": [
    "df.sort_values(by=[\"學期總分\"], ascending=False)"
   ]
  },
  {
   "cell_type": "markdown",
   "metadata": {},
   "source": [
    "先看會計學, 再看學期總分"
   ]
  },
  {
   "cell_type": "code",
   "execution_count": 50,
   "metadata": {},
   "outputs": [
    {
     "data": {
      "text/html": [
       "<div>\n",
       "<style scoped>\n",
       "    .dataframe tbody tr th:only-of-type {\n",
       "        vertical-align: middle;\n",
       "    }\n",
       "\n",
       "    .dataframe tbody tr th {\n",
       "        vertical-align: top;\n",
       "    }\n",
       "\n",
       "    .dataframe thead th {\n",
       "        text-align: right;\n",
       "    }\n",
       "</style>\n",
       "<table border=\"1\" class=\"dataframe\">\n",
       "  <thead>\n",
       "    <tr style=\"text-align: right;\">\n",
       "      <th></th>\n",
       "      <th>財務管理</th>\n",
       "      <th>投資學</th>\n",
       "      <th>會計學</th>\n",
       "      <th>經濟學</th>\n",
       "      <th>學期總分</th>\n",
       "      <th>平均分數</th>\n",
       "      <th>加權總分</th>\n",
       "      <th>加權平均</th>\n",
       "    </tr>\n",
       "  </thead>\n",
       "  <tbody>\n",
       "    <tr>\n",
       "      <th>張無忌</th>\n",
       "      <td>64</td>\n",
       "      <td>67</td>\n",
       "      <td>84</td>\n",
       "      <td>87</td>\n",
       "      <td>302</td>\n",
       "      <td>75.50</td>\n",
       "      <td>347.4</td>\n",
       "      <td>73.914894</td>\n",
       "    </tr>\n",
       "    <tr>\n",
       "      <th>程靈素</th>\n",
       "      <td>90</td>\n",
       "      <td>32</td>\n",
       "      <td>78</td>\n",
       "      <td>85</td>\n",
       "      <td>285</td>\n",
       "      <td>71.25</td>\n",
       "      <td>336.4</td>\n",
       "      <td>71.574468</td>\n",
       "    </tr>\n",
       "    <tr>\n",
       "      <th>黃蓉</th>\n",
       "      <td>89</td>\n",
       "      <td>99</td>\n",
       "      <td>67</td>\n",
       "      <td>84</td>\n",
       "      <td>339</td>\n",
       "      <td>84.75</td>\n",
       "      <td>403.3</td>\n",
       "      <td>85.808511</td>\n",
       "    </tr>\n",
       "    <tr>\n",
       "      <th>郭靖</th>\n",
       "      <td>59</td>\n",
       "      <td>66</td>\n",
       "      <td>57</td>\n",
       "      <td>45</td>\n",
       "      <td>227</td>\n",
       "      <td>56.75</td>\n",
       "      <td>269.7</td>\n",
       "      <td>57.382979</td>\n",
       "    </tr>\n",
       "    <tr>\n",
       "      <th>趙敏</th>\n",
       "      <td>87</td>\n",
       "      <td>29</td>\n",
       "      <td>41</td>\n",
       "      <td>56</td>\n",
       "      <td>213</td>\n",
       "      <td>53.25</td>\n",
       "      <td>262.3</td>\n",
       "      <td>55.808511</td>\n",
       "    </tr>\n",
       "    <tr>\n",
       "      <th>令狐沖</th>\n",
       "      <td>97</td>\n",
       "      <td>92</td>\n",
       "      <td>29</td>\n",
       "      <td>40</td>\n",
       "      <td>258</td>\n",
       "      <td>64.50</td>\n",
       "      <td>324.9</td>\n",
       "      <td>69.127660</td>\n",
       "    </tr>\n",
       "  </tbody>\n",
       "</table>\n",
       "</div>"
      ],
      "text/plain": [
       "     財務管理  投資學  會計學  經濟學  學期總分   平均分數   加權總分       加權平均\n",
       "張無忌    64   67   84   87   302  75.50  347.4  73.914894\n",
       "程靈素    90   32   78   85   285  71.25  336.4  71.574468\n",
       "黃蓉     89   99   67   84   339  84.75  403.3  85.808511\n",
       "郭靖     59   66   57   45   227  56.75  269.7  57.382979\n",
       "趙敏     87   29   41   56   213  53.25  262.3  55.808511\n",
       "令狐沖    97   92   29   40   258  64.50  324.9  69.127660"
      ]
     },
     "execution_count": 50,
     "metadata": {},
     "output_type": "execute_result"
    }
   ],
   "source": [
    "df.sort_values(by=[\"會計學\",\"學期總分\"], ascending=False)"
   ]
  },
  {
   "cell_type": "markdown",
   "metadata": {},
   "source": [
    "### 時間序列資料分析\n",
    "    - 移動敘述統計量\n",
    "    - 差分\n",
    "    - 資料平移"
   ]
  },
  {
   "cell_type": "code",
   "execution_count": 51,
   "metadata": {},
   "outputs": [
    {
     "data": {
      "text/html": [
       "<div>\n",
       "<style scoped>\n",
       "    .dataframe tbody tr th:only-of-type {\n",
       "        vertical-align: middle;\n",
       "    }\n",
       "\n",
       "    .dataframe tbody tr th {\n",
       "        vertical-align: top;\n",
       "    }\n",
       "\n",
       "    .dataframe thead th {\n",
       "        text-align: right;\n",
       "    }\n",
       "</style>\n",
       "<table border=\"1\" class=\"dataframe\">\n",
       "  <thead>\n",
       "    <tr style=\"text-align: right;\">\n",
       "      <th></th>\n",
       "      <th>c1</th>\n",
       "      <th>c2</th>\n",
       "      <th>c3</th>\n",
       "    </tr>\n",
       "  </thead>\n",
       "  <tbody>\n",
       "    <tr>\n",
       "      <th>2018-01-01</th>\n",
       "      <td>1</td>\n",
       "      <td>5</td>\n",
       "      <td>11</td>\n",
       "    </tr>\n",
       "    <tr>\n",
       "      <th>2018-01-02</th>\n",
       "      <td>2</td>\n",
       "      <td>6</td>\n",
       "      <td>12</td>\n",
       "    </tr>\n",
       "    <tr>\n",
       "      <th>2018-01-03</th>\n",
       "      <td>3</td>\n",
       "      <td>7</td>\n",
       "      <td>5</td>\n",
       "    </tr>\n",
       "    <tr>\n",
       "      <th>2018-01-04</th>\n",
       "      <td>4</td>\n",
       "      <td>8</td>\n",
       "      <td>7</td>\n",
       "    </tr>\n",
       "    <tr>\n",
       "      <th>2018-01-05</th>\n",
       "      <td>5</td>\n",
       "      <td>9</td>\n",
       "      <td>8</td>\n",
       "    </tr>\n",
       "    <tr>\n",
       "      <th>2018-01-06</th>\n",
       "      <td>6</td>\n",
       "      <td>10</td>\n",
       "      <td>2</td>\n",
       "    </tr>\n",
       "  </tbody>\n",
       "</table>\n",
       "</div>"
      ],
      "text/plain": [
       "            c1  c2  c3\n",
       "2018-01-01   1   5  11\n",
       "2018-01-02   2   6  12\n",
       "2018-01-03   3   7   5\n",
       "2018-01-04   4   8   7\n",
       "2018-01-05   5   9   8\n",
       "2018-01-06   6  10   2"
      ]
     },
     "execution_count": 51,
     "metadata": {},
     "output_type": "execute_result"
    }
   ],
   "source": [
    "#先建立資料\n",
    "s1 = pd.Series([1,2,3,4,5,6], index=date)\n",
    "s2 = pd.Series([5,6,7,8,9,10], index=date)\n",
    "s3 = pd.Series([11,12,5,7,8,2], index=date)\n",
    "\n",
    "dictionary = {\n",
    "    'c1': s1,\n",
    "    'c2': s2,\n",
    "    'c3': s3,\n",
    "}\n",
    "\n",
    "df = pd.DataFrame(dictionary)\n",
    "df"
   ]
  },
  {
   "cell_type": "markdown",
   "metadata": {},
   "source": [
    "- 移動平均"
   ]
  },
  {
   "cell_type": "code",
   "execution_count": 52,
   "metadata": {},
   "outputs": [
    {
     "data": {
      "text/html": [
       "<div>\n",
       "<style scoped>\n",
       "    .dataframe tbody tr th:only-of-type {\n",
       "        vertical-align: middle;\n",
       "    }\n",
       "\n",
       "    .dataframe tbody tr th {\n",
       "        vertical-align: top;\n",
       "    }\n",
       "\n",
       "    .dataframe thead th {\n",
       "        text-align: right;\n",
       "    }\n",
       "</style>\n",
       "<table border=\"1\" class=\"dataframe\">\n",
       "  <thead>\n",
       "    <tr style=\"text-align: right;\">\n",
       "      <th></th>\n",
       "      <th>c1</th>\n",
       "      <th>c2</th>\n",
       "      <th>c3</th>\n",
       "    </tr>\n",
       "  </thead>\n",
       "  <tbody>\n",
       "    <tr>\n",
       "      <th>2018-01-01</th>\n",
       "      <td>NaN</td>\n",
       "      <td>NaN</td>\n",
       "      <td>NaN</td>\n",
       "    </tr>\n",
       "    <tr>\n",
       "      <th>2018-01-02</th>\n",
       "      <td>1.5</td>\n",
       "      <td>5.5</td>\n",
       "      <td>11.5</td>\n",
       "    </tr>\n",
       "    <tr>\n",
       "      <th>2018-01-03</th>\n",
       "      <td>2.5</td>\n",
       "      <td>6.5</td>\n",
       "      <td>8.5</td>\n",
       "    </tr>\n",
       "    <tr>\n",
       "      <th>2018-01-04</th>\n",
       "      <td>3.5</td>\n",
       "      <td>7.5</td>\n",
       "      <td>6.0</td>\n",
       "    </tr>\n",
       "    <tr>\n",
       "      <th>2018-01-05</th>\n",
       "      <td>4.5</td>\n",
       "      <td>8.5</td>\n",
       "      <td>7.5</td>\n",
       "    </tr>\n",
       "    <tr>\n",
       "      <th>2018-01-06</th>\n",
       "      <td>5.5</td>\n",
       "      <td>9.5</td>\n",
       "      <td>5.0</td>\n",
       "    </tr>\n",
       "  </tbody>\n",
       "</table>\n",
       "</div>"
      ],
      "text/plain": [
       "             c1   c2    c3\n",
       "2018-01-01  NaN  NaN   NaN\n",
       "2018-01-02  1.5  5.5  11.5\n",
       "2018-01-03  2.5  6.5   8.5\n",
       "2018-01-04  3.5  7.5   6.0\n",
       "2018-01-05  4.5  8.5   7.5\n",
       "2018-01-06  5.5  9.5   5.0"
      ]
     },
     "execution_count": 52,
     "metadata": {},
     "output_type": "execute_result"
    }
   ],
   "source": [
    "df.rolling(2).mean()"
   ]
  },
  {
   "cell_type": "markdown",
   "metadata": {},
   "source": [
    "- 差分 (`.diff(1)`)：後項減去前項"
   ]
  },
  {
   "cell_type": "code",
   "execution_count": 53,
   "metadata": {},
   "outputs": [
    {
     "data": {
      "text/html": [
       "<div>\n",
       "<style scoped>\n",
       "    .dataframe tbody tr th:only-of-type {\n",
       "        vertical-align: middle;\n",
       "    }\n",
       "\n",
       "    .dataframe tbody tr th {\n",
       "        vertical-align: top;\n",
       "    }\n",
       "\n",
       "    .dataframe thead th {\n",
       "        text-align: right;\n",
       "    }\n",
       "</style>\n",
       "<table border=\"1\" class=\"dataframe\">\n",
       "  <thead>\n",
       "    <tr style=\"text-align: right;\">\n",
       "      <th></th>\n",
       "      <th>c1</th>\n",
       "      <th>c2</th>\n",
       "      <th>c3</th>\n",
       "      <th>c3差分</th>\n",
       "    </tr>\n",
       "  </thead>\n",
       "  <tbody>\n",
       "    <tr>\n",
       "      <th>2018-01-01</th>\n",
       "      <td>1</td>\n",
       "      <td>5</td>\n",
       "      <td>11</td>\n",
       "      <td>NaN</td>\n",
       "    </tr>\n",
       "    <tr>\n",
       "      <th>2018-01-02</th>\n",
       "      <td>2</td>\n",
       "      <td>6</td>\n",
       "      <td>12</td>\n",
       "      <td>1.0</td>\n",
       "    </tr>\n",
       "    <tr>\n",
       "      <th>2018-01-03</th>\n",
       "      <td>3</td>\n",
       "      <td>7</td>\n",
       "      <td>5</td>\n",
       "      <td>-7.0</td>\n",
       "    </tr>\n",
       "    <tr>\n",
       "      <th>2018-01-04</th>\n",
       "      <td>4</td>\n",
       "      <td>8</td>\n",
       "      <td>7</td>\n",
       "      <td>2.0</td>\n",
       "    </tr>\n",
       "    <tr>\n",
       "      <th>2018-01-05</th>\n",
       "      <td>5</td>\n",
       "      <td>9</td>\n",
       "      <td>8</td>\n",
       "      <td>1.0</td>\n",
       "    </tr>\n",
       "    <tr>\n",
       "      <th>2018-01-06</th>\n",
       "      <td>6</td>\n",
       "      <td>10</td>\n",
       "      <td>2</td>\n",
       "      <td>-6.0</td>\n",
       "    </tr>\n",
       "  </tbody>\n",
       "</table>\n",
       "</div>"
      ],
      "text/plain": [
       "            c1  c2  c3  c3差分\n",
       "2018-01-01   1   5  11   NaN\n",
       "2018-01-02   2   6  12   1.0\n",
       "2018-01-03   3   7   5  -7.0\n",
       "2018-01-04   4   8   7   2.0\n",
       "2018-01-05   5   9   8   1.0\n",
       "2018-01-06   6  10   2  -6.0"
      ]
     },
     "execution_count": 53,
     "metadata": {},
     "output_type": "execute_result"
    }
   ],
   "source": [
    "df['c3差分']=df['c3'].diff(1)\n",
    "df"
   ]
  },
  {
   "cell_type": "markdown",
   "metadata": {},
   "source": [
    "- Shift：平移時間序列資料"
   ]
  },
  {
   "cell_type": "code",
   "execution_count": 54,
   "metadata": {},
   "outputs": [
    {
     "data": {
      "text/html": [
       "<div>\n",
       "<style scoped>\n",
       "    .dataframe tbody tr th:only-of-type {\n",
       "        vertical-align: middle;\n",
       "    }\n",
       "\n",
       "    .dataframe tbody tr th {\n",
       "        vertical-align: top;\n",
       "    }\n",
       "\n",
       "    .dataframe thead th {\n",
       "        text-align: right;\n",
       "    }\n",
       "</style>\n",
       "<table border=\"1\" class=\"dataframe\">\n",
       "  <thead>\n",
       "    <tr style=\"text-align: right;\">\n",
       "      <th></th>\n",
       "      <th>c1</th>\n",
       "      <th>c2</th>\n",
       "      <th>c3</th>\n",
       "      <th>c3差分</th>\n",
       "      <th>c3_lag1</th>\n",
       "    </tr>\n",
       "  </thead>\n",
       "  <tbody>\n",
       "    <tr>\n",
       "      <th>2018-01-01</th>\n",
       "      <td>1</td>\n",
       "      <td>5</td>\n",
       "      <td>11</td>\n",
       "      <td>NaN</td>\n",
       "      <td>NaN</td>\n",
       "    </tr>\n",
       "    <tr>\n",
       "      <th>2018-01-02</th>\n",
       "      <td>2</td>\n",
       "      <td>6</td>\n",
       "      <td>12</td>\n",
       "      <td>1.0</td>\n",
       "      <td>11.0</td>\n",
       "    </tr>\n",
       "    <tr>\n",
       "      <th>2018-01-03</th>\n",
       "      <td>3</td>\n",
       "      <td>7</td>\n",
       "      <td>5</td>\n",
       "      <td>-7.0</td>\n",
       "      <td>12.0</td>\n",
       "    </tr>\n",
       "    <tr>\n",
       "      <th>2018-01-04</th>\n",
       "      <td>4</td>\n",
       "      <td>8</td>\n",
       "      <td>7</td>\n",
       "      <td>2.0</td>\n",
       "      <td>5.0</td>\n",
       "    </tr>\n",
       "    <tr>\n",
       "      <th>2018-01-05</th>\n",
       "      <td>5</td>\n",
       "      <td>9</td>\n",
       "      <td>8</td>\n",
       "      <td>1.0</td>\n",
       "      <td>7.0</td>\n",
       "    </tr>\n",
       "    <tr>\n",
       "      <th>2018-01-06</th>\n",
       "      <td>6</td>\n",
       "      <td>10</td>\n",
       "      <td>2</td>\n",
       "      <td>-6.0</td>\n",
       "      <td>8.0</td>\n",
       "    </tr>\n",
       "  </tbody>\n",
       "</table>\n",
       "</div>"
      ],
      "text/plain": [
       "            c1  c2  c3  c3差分  c3_lag1\n",
       "2018-01-01   1   5  11   NaN      NaN\n",
       "2018-01-02   2   6  12   1.0     11.0\n",
       "2018-01-03   3   7   5  -7.0     12.0\n",
       "2018-01-04   4   8   7   2.0      5.0\n",
       "2018-01-05   5   9   8   1.0      7.0\n",
       "2018-01-06   6  10   2  -6.0      8.0"
      ]
     },
     "execution_count": 54,
     "metadata": {},
     "output_type": "execute_result"
    }
   ],
   "source": [
    "# 取得c3欄位的落後項(前一天的數值)，如果要得到未來某一天的資料則shift內輸入：-1\n",
    "df['c3_lag1']=df['c3'].shift(1)\n",
    "df"
   ]
  },
  {
   "cell_type": "markdown",
   "metadata": {},
   "source": [
    "### **練習 2：股價資料的敘述統計量**\n",
    "1. 下載台積電(2330.tw)從今年1月至今的每日股價\n",
    "3. 計算這家公司的平均數、標準差、最小值與最大值、第一四分位數、第三四分位數 (`describe()`)。\n",
    "4. 計算這家公司的交易量與收盤價的相關係數 (`corr`)。\n",
    "5. 計算蘋果的日報酬率為何？(`差分`)\n",
    "$$\\frac{P_{t} - P_{t-1}}{P_{t-1}}$$"
   ]
  },
  {
   "cell_type": "code",
   "execution_count": null,
   "metadata": {},
   "outputs": [],
   "source": []
  },
  {
   "cell_type": "markdown",
   "metadata": {},
   "source": [
    "------\n",
    "<a id='c5'></a>\n",
    "## **5 資料視覺化**\n",
    "[回目錄](#HOME)"
   ]
  },
  {
   "cell_type": "code",
   "execution_count": 55,
   "metadata": {},
   "outputs": [],
   "source": [
    "開始日=datetime.datetime(2020,1,1)\n",
    "股票代碼='^TWII'\n",
    "結束日=datetime.datetime(2020,7,31)\n",
    "df=web.DataReader(股票代碼,'yahoo',開始日,結束日)"
   ]
  },
  {
   "cell_type": "markdown",
   "metadata": {},
   "source": [
    "- 時間序列圖"
   ]
  },
  {
   "cell_type": "code",
   "execution_count": 56,
   "metadata": {},
   "outputs": [
    {
     "data": {
      "text/plain": [
       "<matplotlib.axes._subplots.AxesSubplot at 0x243b1b43888>"
      ]
     },
     "execution_count": 56,
     "metadata": {},
     "output_type": "execute_result"
    },
    {
     "data": {
      "image/png": "[encoded data removed]",
      "text/plain": [
       "<Figure size 432x288 with 1 Axes>"
      ]
     },
     "metadata": {
      "needs_background": "light"
     },
     "output_type": "display_data"
    }
   ],
   "source": [
    "df.Close.plot()"
   ]
  },
  {
   "cell_type": "markdown",
   "metadata": {},
   "source": [
    "收盤價與20日均線畫在一起"
   ]
  },
  {
   "cell_type": "code",
   "execution_count": 57,
   "metadata": {},
   "outputs": [
    {
     "data": {
      "text/plain": [
       "<matplotlib.axes._subplots.AxesSubplot at 0x243b24b1b08>"
      ]
     },
     "execution_count": 57,
     "metadata": {},
     "output_type": "execute_result"
    },
    {
     "data": {
      "image/png": "[encoded data removed]",
      "text/plain": [
       "<Figure size 432x288 with 1 Axes>"
      ]
     },
     "metadata": {
      "needs_background": "light"
     },
     "output_type": "display_data"
    }
   ],
   "source": [
    "df.Close.plot()\n",
    "df.Close.rolling(20).mean().plot()"
   ]
  },
  {
   "cell_type": "markdown",
   "metadata": {},
   "source": [
    "- 柱狀圖"
   ]
  },
  {
   "cell_type": "code",
   "execution_count": 58,
   "metadata": {},
   "outputs": [
    {
     "data": {
      "text/plain": [
       "<matplotlib.axes._subplots.AxesSubplot at 0x243b3ff5688>"
      ]
     },
     "execution_count": 58,
     "metadata": {},
     "output_type": "execute_result"
    },
    {
     "data": {
      "image/png": "[encoded data removed]",
      "text/plain": [
       "<Figure size 432x288 with 1 Axes>"
      ]
     },
     "metadata": {
      "needs_background": "light"
     },
     "output_type": "display_data"
    }
   ],
   "source": [
    "df[\"Return\"] = df[\"Close\"].diff(1)/df[\"Close\"].shift(1)\n",
    "df.Return.hist(bins=30)\n",
    "#df['Return'].plot.density()"
   ]
  },
  {
   "cell_type": "markdown",
   "metadata": {},
   "source": [
    "- 直方圖"
   ]
  },
  {
   "cell_type": "code",
   "execution_count": 59,
   "metadata": {},
   "outputs": [
    {
     "data": {
      "text/plain": [
       "<matplotlib.axes._subplots.AxesSubplot at 0x243b4145088>"
      ]
     },
     "execution_count": 59,
     "metadata": {},
     "output_type": "execute_result"
    },
    {
     "data": {
      "image/png": "[encoded data removed]",
      "text/plain": [
       "<Figure size 432x288 with 1 Axes>"
      ]
     },
     "metadata": {
      "needs_background": "light"
     },
     "output_type": "display_data"
    }
   ],
   "source": [
    "df1 = pd.DataFrame(np.random.rand(6, 4),\n",
    "                  index=['one', 'two', 'three', 'four', 'five', 'six'],\n",
    "                  columns=pd.Index(['A', 'B', 'C', 'D'], name='Genus'))\n",
    "df1.plot.bar()"
   ]
  },
  {
   "cell_type": "code",
   "execution_count": 60,
   "metadata": {},
   "outputs": [
    {
     "data": {
      "text/html": [
       "<div>\n",
       "<style scoped>\n",
       "    .dataframe tbody tr th:only-of-type {\n",
       "        vertical-align: middle;\n",
       "    }\n",
       "\n",
       "    .dataframe tbody tr th {\n",
       "        vertical-align: top;\n",
       "    }\n",
       "\n",
       "    .dataframe thead th {\n",
       "        text-align: right;\n",
       "    }\n",
       "</style>\n",
       "<table border=\"1\" class=\"dataframe\">\n",
       "  <thead>\n",
       "    <tr style=\"text-align: right;\">\n",
       "      <th>Genus</th>\n",
       "      <th>A</th>\n",
       "      <th>B</th>\n",
       "      <th>C</th>\n",
       "      <th>D</th>\n",
       "    </tr>\n",
       "  </thead>\n",
       "  <tbody>\n",
       "    <tr>\n",
       "      <th>one</th>\n",
       "      <td>0.978618</td>\n",
       "      <td>0.799159</td>\n",
       "      <td>0.461479</td>\n",
       "      <td>0.780529</td>\n",
       "    </tr>\n",
       "    <tr>\n",
       "      <th>two</th>\n",
       "      <td>0.118274</td>\n",
       "      <td>0.639921</td>\n",
       "      <td>0.143353</td>\n",
       "      <td>0.944669</td>\n",
       "    </tr>\n",
       "    <tr>\n",
       "      <th>three</th>\n",
       "      <td>0.521848</td>\n",
       "      <td>0.414662</td>\n",
       "      <td>0.264556</td>\n",
       "      <td>0.774234</td>\n",
       "    </tr>\n",
       "    <tr>\n",
       "      <th>four</th>\n",
       "      <td>0.456150</td>\n",
       "      <td>0.568434</td>\n",
       "      <td>0.018790</td>\n",
       "      <td>0.617635</td>\n",
       "    </tr>\n",
       "    <tr>\n",
       "      <th>five</th>\n",
       "      <td>0.612096</td>\n",
       "      <td>0.616934</td>\n",
       "      <td>0.943748</td>\n",
       "      <td>0.681820</td>\n",
       "    </tr>\n",
       "    <tr>\n",
       "      <th>six</th>\n",
       "      <td>0.359508</td>\n",
       "      <td>0.437032</td>\n",
       "      <td>0.697631</td>\n",
       "      <td>0.060225</td>\n",
       "    </tr>\n",
       "  </tbody>\n",
       "</table>\n",
       "</div>"
      ],
      "text/plain": [
       "Genus         A         B         C         D\n",
       "one    0.978618  0.799159  0.461479  0.780529\n",
       "two    0.118274  0.639921  0.143353  0.944669\n",
       "three  0.521848  0.414662  0.264556  0.774234\n",
       "four   0.456150  0.568434  0.018790  0.617635\n",
       "five   0.612096  0.616934  0.943748  0.681820\n",
       "six    0.359508  0.437032  0.697631  0.060225"
      ]
     },
     "execution_count": 60,
     "metadata": {},
     "output_type": "execute_result"
    }
   ],
   "source": [
    "df1"
   ]
  },
  {
   "cell_type": "markdown",
   "metadata": {},
   "source": [
    "- 畫出累積報酬率圖\n",
    "\n",
    "2020年1月1日投入1元後，2020年7月31日時變為多少元"
   ]
  },
  {
   "cell_type": "code",
   "execution_count": 61,
   "metadata": {},
   "outputs": [
    {
     "data": {
      "text/plain": [
       "<matplotlib.axes._subplots.AxesSubplot at 0x243b41fc5c8>"
      ]
     },
     "execution_count": 61,
     "metadata": {},
     "output_type": "execute_result"
    },
    {
     "data": {
      "image/png": "[encoded data removed]",
      "text/plain": [
       "<Figure size 432x288 with 1 Axes>"
      ]
     },
     "metadata": {
      "needs_background": "light"
     },
     "output_type": "display_data"
    }
   ],
   "source": [
    "((1+df.Return).cumprod()).plot()"
   ]
  },
  {
   "cell_type": "markdown",
   "metadata": {},
   "source": [
    "### **更換畫圖的風格：**\n",
    "- default：預設的風格\n",
    "- ggplot：模仿R的ggplot風格\n",
    "- seaborn：另一個python套件，圖片風格也很漂亮。"
   ]
  },
  {
   "cell_type": "code",
   "execution_count": 62,
   "metadata": {},
   "outputs": [
    {
     "data": {
      "text/plain": [
       "['bmh',\n",
       " 'classic',\n",
       " 'dark_background',\n",
       " 'fast',\n",
       " 'fivethirtyeight',\n",
       " 'ggplot',\n",
       " 'grayscale',\n",
       " 'seaborn-bright',\n",
       " 'seaborn-colorblind',\n",
       " 'seaborn-dark-palette',\n",
       " 'seaborn-dark',\n",
       " 'seaborn-darkgrid',\n",
       " 'seaborn-deep',\n",
       " 'seaborn-muted',\n",
       " 'seaborn-notebook',\n",
       " 'seaborn-paper',\n",
       " 'seaborn-pastel',\n",
       " 'seaborn-poster',\n",
       " 'seaborn-talk',\n",
       " 'seaborn-ticks',\n",
       " 'seaborn-white',\n",
       " 'seaborn-whitegrid',\n",
       " 'seaborn',\n",
       " 'Solarize_Light2',\n",
       " 'tableau-colorblind10',\n",
       " '_classic_test']"
      ]
     },
     "execution_count": 62,
     "metadata": {},
     "output_type": "execute_result"
    }
   ],
   "source": [
    "plt.style.available[0:]"
   ]
  },
  {
   "cell_type": "code",
   "execution_count": 63,
   "metadata": {},
   "outputs": [],
   "source": [
    "plt.style.use('seaborn')"
   ]
  },
  {
   "cell_type": "code",
   "execution_count": 64,
   "metadata": {},
   "outputs": [
    {
     "data": {
      "text/plain": [
       "<matplotlib.axes._subplots.AxesSubplot at 0x243b4207d48>"
      ]
     },
     "execution_count": 64,
     "metadata": {},
     "output_type": "execute_result"
    },
    {
     "data": {
      "image/png": "[encoded data removed]",
      "text/plain": [
       "<Figure size 576x396 with 1 Axes>"
      ]
     },
     "metadata": {},
     "output_type": "display_data"
    }
   ],
   "source": [
    "((1+df.Return).cumprod()).plot()"
   ]
  },
  {
   "cell_type": "code",
   "execution_count": 65,
   "metadata": {},
   "outputs": [
    {
     "data": {
      "text/plain": [
       "<matplotlib.legend.Legend at 0x243b42dc708>"
      ]
     },
     "execution_count": 65,
     "metadata": {},
     "output_type": "execute_result"
    },
    {
     "data": {
      "image/png": "[encoded data removed]",
      "text/plain": [
       "<Figure size 576x396 with 1 Axes>"
      ]
     },
     "metadata": {},
     "output_type": "display_data"
    }
   ],
   "source": [
    "df.Return.plot(color='r')\n",
    "((1+df.Return).cumprod()).plot(color='b')\n",
    "plt.legend(['Return', 'Cumulative Return'])"
   ]
  },
  {
   "cell_type": "code",
   "execution_count": 66,
   "metadata": {
    "scrolled": false
   },
   "outputs": [
    {
     "data": {
      "text/plain": [
       "Text(0.5, 1.0, 'Close')"
      ]
     },
     "execution_count": 66,
     "metadata": {},
     "output_type": "execute_result"
    },
    {
     "data": {
      "image/png": "[encoded data removed]",
      "text/plain": [
       "<Figure size 1440x1440 with 4 Axes>"
      ]
     },
     "metadata": {},
     "output_type": "display_data"
    }
   ],
   "source": [
    "fig, axes = plt.subplots(nrows=2, ncols=2, figsize=(20,20))\n",
    "df['Open'].plot(ax=axes[0,0]); axes[0,0].set_title('Open')\n",
    "df['High'].plot(ax=axes[0,1]); axes[0,1].set_title('High')\n",
    "df['Low'].plot(ax=axes[1,0]); axes[1,0].set_title('Low')\n",
    "df['Close'].plot(ax=axes[1,1]); axes[1,1].set_title('Close')"
   ]
  },
  {
   "cell_type": "markdown",
   "metadata": {},
   "source": [
    "### **K線圖**"
   ]
  },
  {
   "cell_type": "code",
   "execution_count": 67,
   "metadata": {},
   "outputs": [
    {
     "data": {
      "text/html": [
       "\n",
       "<script>\n",
       "    require.config({\n",
       "        paths: {\n",
       "            'echarts':'https://assets.pyecharts.org/assets/echarts.min'\n",
       "        }\n",
       "    });\n",
       "</script>\n",
       "\n",
       "        <div id=\"0684adda9e8e493baeda8f123a28d536\" style=\"width:900px; height:500px;\"></div>\n",
       "\n",
       "<script>\n",
       "        require(['echarts'], function(echarts) {\n",
       "                var chart_0684adda9e8e493baeda8f123a28d536 = echarts.init(\n",
       "                    document.getElementById('0684adda9e8e493baeda8f123a28d536'), 'white', {renderer: 'canvas'});\n",
       "                var option_0684adda9e8e493baeda8f123a28d536 = {\n",
       "    \"animation\": true,\n",
       "    \"animationThreshold\": 2000,\n",
       "    \"animationDuration\": 1000,\n",
       "    \"animationEasing\": \"cubicOut\",\n",
       "    \"animationDelay\": 0,\n",
       "    \"animationDurationUpdate\": 300,\n",
       "    \"animationEasingUpdate\": \"cubicOut\",\n",
       "    \"animationDelayUpdate\": 0,\n",
       "    \"color\": [\n",
       "        \"#c23531\",\n",
       "        \"#2f4554\",\n",
       "        \"#61a0a8\",\n",
       "        \"#d48265\",\n",
       "        \"#749f83\",\n",
       "        \"#ca8622\",\n",
       "        \"#bda29a\",\n",
       "        \"#6e7074\",\n",
       "        \"#546570\",\n",
       "        \"#c4ccd3\",\n",
       "        \"#f05b72\",\n",
       "        \"#ef5b9c\",\n",
       "        \"#f47920\",\n",
       "        \"#905a3d\",\n",
       "        \"#fab27b\",\n",
       "        \"#2a5caa\",\n",
       "        \"#444693\",\n",
       "        \"#726930\",\n",
       "        \"#b2d235\",\n",
       "        \"#6d8346\",\n",
       "        \"#ac6767\",\n",
       "        \"#1d953f\",\n",
       "        \"#6950a1\",\n",
       "        \"#918597\"\n",
       "    ],\n",
       "    \"series\": [\n",
       "        {\n",
       "            \"type\": \"candlestick\",\n",
       "            \"name\": \"\\u80a1\\u50f9\",\n",
       "            \"data\": [\n",
       "                [\n",
       "                    332.5,\n",
       "                    339.0,\n",
       "                    332.5,\n",
       "                    339.0\n",
       "                ],\n",
       "                [\n",
       "                    344.0,\n",
       "                    339.5,\n",
       "                    335.5,\n",
       "                    345.0\n",
       "                ],\n",
       "                [\n",
       "                    333.0,\n",
       "                    332.0,\n",
       "                    332.0,\n",
       "                    334.5\n",
       "                ],\n",
       "                [\n",
       "                    332.5,\n",
       "                    329.5,\n",
       "                    326.5,\n",
       "                    333.0\n",
       "                ],\n",
       "                [\n",
       "                    325.0,\n",
       "                    329.5,\n",
       "                    325.0,\n",
       "                    333.0\n",
       "                ],\n",
       "                [\n",
       "                    335.0,\n",
       "                    337.5,\n",
       "                    333.5,\n",
       "                    337.5\n",
       "                ],\n",
       "                [\n",
       "                    340.5,\n",
       "                    339.5,\n",
       "                    336.0,\n",
       "                    341.0\n",
       "                ],\n",
       "                [\n",
       "                    342.0,\n",
       "                    341.5,\n",
       "                    339.0,\n",
       "                    342.0\n",
       "                ],\n",
       "                [\n",
       "                    345.5,\n",
       "                    346.0,\n",
       "                    344.5,\n",
       "                    346.0\n",
       "                ],\n",
       "                [\n",
       "                    345.0,\n",
       "                    340.0,\n",
       "                    337.5,\n",
       "                    345.0\n",
       "                ],\n",
       "                [\n",
       "                    330.0,\n",
       "                    334.5,\n",
       "                    330.0,\n",
       "                    336.5\n",
       "                ],\n",
       "                [\n",
       "                    334.0,\n",
       "                    333.0,\n",
       "                    332.0,\n",
       "                    335.5\n",
       "                ],\n",
       "                [\n",
       "                    334.0,\n",
       "                    333.0,\n",
       "                    333.0,\n",
       "                    335.5\n",
       "                ],\n",
       "                [\n",
       "                    326.0,\n",
       "                    316.5,\n",
       "                    316.5,\n",
       "                    326.0\n",
       "                ],\n",
       "                [\n",
       "                    323.0,\n",
       "                    320.0,\n",
       "                    319.0,\n",
       "                    323.5\n",
       "                ],\n",
       "                [\n",
       "                    315.0,\n",
       "                    315.0,\n",
       "                    312.0,\n",
       "                    316.5\n",
       "                ],\n",
       "                [\n",
       "                    336.5,\n",
       "                    325.0,\n",
       "                    325.0,\n",
       "                    337.0\n",
       "                ],\n",
       "                [\n",
       "                    329.0,\n",
       "                    327.5,\n",
       "                    324.5,\n",
       "                    329.5\n",
       "                ],\n",
       "                [\n",
       "                    329.5,\n",
       "                    332.5,\n",
       "                    329.0,\n",
       "                    332.5\n",
       "                ],\n",
       "                [\n",
       "                    330.0,\n",
       "                    328.0,\n",
       "                    326.0,\n",
       "                    330.5\n",
       "                ],\n",
       "                [\n",
       "                    321.5,\n",
       "                    327.5,\n",
       "                    321.0,\n",
       "                    328.0\n",
       "                ],\n",
       "                [\n",
       "                    330.5,\n",
       "                    331.5,\n",
       "                    330.0,\n",
       "                    332.5\n",
       "                ],\n",
       "                [\n",
       "                    333.5,\n",
       "                    335.0,\n",
       "                    333.0,\n",
       "                    336.0\n",
       "                ],\n",
       "                [\n",
       "                    338.0,\n",
       "                    335.0,\n",
       "                    335.0,\n",
       "                    338.0\n",
       "                ],\n",
       "                [\n",
       "                    337.0,\n",
       "                    335.0,\n",
       "                    334.5,\n",
       "                    337.0\n",
       "                ],\n",
       "                [\n",
       "                    331.5,\n",
       "                    331.5,\n",
       "                    330.5,\n",
       "                    333.0\n",
       "                ],\n",
       "                [\n",
       "                    324.5,\n",
       "                    322.0,\n",
       "                    322.0,\n",
       "                    326.5\n",
       "                ],\n",
       "                [\n",
       "                    322.5,\n",
       "                    326.5,\n",
       "                    322.0,\n",
       "                    327.0\n",
       "                ],\n",
       "                [\n",
       "                    328.0,\n",
       "                    325.5,\n",
       "                    325.0,\n",
       "                    329.0\n",
       "                ],\n",
       "                [\n",
       "                    325.5,\n",
       "                    325.0,\n",
       "                    323.0,\n",
       "                    326.5\n",
       "                ],\n",
       "                [\n",
       "                    319.5,\n",
       "                    320.0,\n",
       "                    319.5,\n",
       "                    321.5\n",
       "                ],\n",
       "                [\n",
       "                    320.0,\n",
       "                    322.0,\n",
       "                    317.5,\n",
       "                    323.5\n",
       "                ],\n",
       "                [\n",
       "                    317.0,\n",
       "                    318.5,\n",
       "                    316.5,\n",
       "                    320.5\n",
       "                ],\n",
       "                [\n",
       "                    319.0,\n",
       "                    316.0,\n",
       "                    315.0,\n",
       "                    320.0\n",
       "                ],\n",
       "                [\n",
       "                    308.0,\n",
       "                    311.0,\n",
       "                    308.0,\n",
       "                    317.0\n",
       "                ],\n",
       "                [\n",
       "                    318.5,\n",
       "                    317.5,\n",
       "                    316.0,\n",
       "                    320.0\n",
       "                ],\n",
       "                [\n",
       "                    322.0,\n",
       "                    320.5,\n",
       "                    317.0,\n",
       "                    322.0\n",
       "                ],\n",
       "                [\n",
       "                    325.0,\n",
       "                    323.0,\n",
       "                    323.0,\n",
       "                    326.0\n",
       "                ],\n",
       "                [\n",
       "                    320.0,\n",
       "                    315.0,\n",
       "                    315.0,\n",
       "                    320.5\n",
       "                ],\n",
       "                [\n",
       "                    307.5,\n",
       "                    305.5,\n",
       "                    305.5,\n",
       "                    310.0\n",
       "                ],\n",
       "                [\n",
       "                    301.5,\n",
       "                    307.0,\n",
       "                    301.0,\n",
       "                    309.0\n",
       "                ],\n",
       "                [\n",
       "                    309.0,\n",
       "                    302.0,\n",
       "                    302.0,\n",
       "                    310.5\n",
       "                ],\n",
       "                [\n",
       "                    299.0,\n",
       "                    294.0,\n",
       "                    287.0,\n",
       "                    299.0\n",
       "                ],\n",
       "                [\n",
       "                    275.0,\n",
       "                    290.0,\n",
       "                    272.5,\n",
       "                    294.0\n",
       "                ],\n",
       "                [\n",
       "                    285.0,\n",
       "                    276.5,\n",
       "                    275.5,\n",
       "                    291.0\n",
       "                ],\n",
       "                [\n",
       "                    265.0,\n",
       "                    268.0,\n",
       "                    265.0,\n",
       "                    276.5\n",
       "                ],\n",
       "                [\n",
       "                    269.5,\n",
       "                    260.0,\n",
       "                    260.0,\n",
       "                    272.5\n",
       "                ],\n",
       "                [\n",
       "                    252.0,\n",
       "                    248.0,\n",
       "                    235.5,\n",
       "                    253.0\n",
       "                ],\n",
       "                [\n",
       "                    258.5,\n",
       "                    270.0,\n",
       "                    256.0,\n",
       "                    270.0\n",
       "                ],\n",
       "                [\n",
       "                    257.0,\n",
       "                    255.0,\n",
       "                    252.0,\n",
       "                    262.5\n",
       "                ],\n",
       "                [\n",
       "                    268.0,\n",
       "                    267.5,\n",
       "                    266.0,\n",
       "                    274.0\n",
       "                ],\n",
       "                [\n",
       "                    276.5,\n",
       "                    277.0,\n",
       "                    274.0,\n",
       "                    280.0\n",
       "                ],\n",
       "                [\n",
       "                    279.5,\n",
       "                    280.0,\n",
       "                    275.5,\n",
       "                    280.0\n",
       "                ],\n",
       "                [\n",
       "                    284.0,\n",
       "                    273.0,\n",
       "                    273.0,\n",
       "                    286.0\n",
       "                ],\n",
       "                [\n",
       "                    263.5,\n",
       "                    267.5,\n",
       "                    262.5,\n",
       "                    269.0\n",
       "                ],\n",
       "                [\n",
       "                    273.0,\n",
       "                    274.0,\n",
       "                    269.5,\n",
       "                    274.0\n",
       "                ],\n",
       "                [\n",
       "                    276.5,\n",
       "                    271.5,\n",
       "                    271.5,\n",
       "                    276.5\n",
       "                ],\n",
       "                [\n",
       "                    273.0,\n",
       "                    275.5,\n",
       "                    270.0,\n",
       "                    275.5\n",
       "                ],\n",
       "                [\n",
       "                    283.5,\n",
       "                    283.0,\n",
       "                    280.5,\n",
       "                    284.0\n",
       "                ],\n",
       "                [\n",
       "                    285.0,\n",
       "                    285.0,\n",
       "                    283.0,\n",
       "                    285.5\n",
       "                ],\n",
       "                [\n",
       "                    287.5,\n",
       "                    283.0,\n",
       "                    282.5,\n",
       "                    288.0\n",
       "                ],\n",
       "                [\n",
       "                    280.0,\n",
       "                    279.5,\n",
       "                    279.0,\n",
       "                    282.0\n",
       "                ],\n",
       "                [\n",
       "                    278.5,\n",
       "                    278.5,\n",
       "                    278.5,\n",
       "                    281.5\n",
       "                ],\n",
       "                [\n",
       "                    281.0,\n",
       "                    285.0,\n",
       "                    280.0,\n",
       "                    285.5\n",
       "                ],\n",
       "                [\n",
       "                    287.0,\n",
       "                    287.5,\n",
       "                    286.0,\n",
       "                    288.5\n",
       "                ],\n",
       "                [\n",
       "                    283.0,\n",
       "                    286.5,\n",
       "                    283.0,\n",
       "                    288.5\n",
       "                ],\n",
       "                [\n",
       "                    303.5,\n",
       "                    306.5,\n",
       "                    300.5,\n",
       "                    308.5\n",
       "                ],\n",
       "                [\n",
       "                    308.0,\n",
       "                    304.0,\n",
       "                    302.5,\n",
       "                    309.0\n",
       "                ],\n",
       "                [\n",
       "                    300.5,\n",
       "                    295.0,\n",
       "                    293.5,\n",
       "                    301.5\n",
       "                ],\n",
       "                [\n",
       "                    294.5,\n",
       "                    294.0,\n",
       "                    290.5,\n",
       "                    295.0\n",
       "                ],\n",
       "                [\n",
       "                    300.0,\n",
       "                    295.5,\n",
       "                    294.0,\n",
       "                    300.0\n",
       "                ],\n",
       "                [\n",
       "                    295.5,\n",
       "                    294.0,\n",
       "                    294.0,\n",
       "                    297.0\n",
       "                ],\n",
       "                [\n",
       "                    298.0,\n",
       "                    298.0,\n",
       "                    296.0,\n",
       "                    298.5\n",
       "                ],\n",
       "                [\n",
       "                    298.5,\n",
       "                    296.5,\n",
       "                    294.5,\n",
       "                    298.5\n",
       "                ],\n",
       "                [\n",
       "                    299.0,\n",
       "                    299.0,\n",
       "                    298.0,\n",
       "                    301.5\n",
       "                ],\n",
       "                [\n",
       "                    302.0,\n",
       "                    304.5,\n",
       "                    301.5,\n",
       "                    305.0\n",
       "                ],\n",
       "                [\n",
       "                    294.5,\n",
       "                    295.0,\n",
       "                    294.0,\n",
       "                    296.5\n",
       "                ],\n",
       "                [\n",
       "                    296.5,\n",
       "                    295.5,\n",
       "                    295.0,\n",
       "                    298.0\n",
       "                ],\n",
       "                [\n",
       "                    294.5,\n",
       "                    296.0,\n",
       "                    292.5,\n",
       "                    296.0\n",
       "                ],\n",
       "                [\n",
       "                    294.5,\n",
       "                    297.5,\n",
       "                    294.5,\n",
       "                    299.0\n",
       "                ],\n",
       "                [\n",
       "                    300.0,\n",
       "                    297.5,\n",
       "                    296.0,\n",
       "                    300.0\n",
       "                ],\n",
       "                [\n",
       "                    300.0,\n",
       "                    301.0,\n",
       "                    298.5,\n",
       "                    301.5\n",
       "                ],\n",
       "                [\n",
       "                    297.5,\n",
       "                    295.0,\n",
       "                    295.0,\n",
       "                    298.5\n",
       "                ],\n",
       "                [\n",
       "                    293.0,\n",
       "                    297.0,\n",
       "                    292.5,\n",
       "                    297.0\n",
       "                ],\n",
       "                [\n",
       "                    293.0,\n",
       "                    293.0,\n",
       "                    292.5,\n",
       "                    295.0\n",
       "                ],\n",
       "                [\n",
       "                    297.5,\n",
       "                    298.0,\n",
       "                    294.5,\n",
       "                    298.5\n",
       "                ],\n",
       "                [\n",
       "                    291.0,\n",
       "                    290.0,\n",
       "                    290.0,\n",
       "                    293.5\n",
       "                ],\n",
       "                [\n",
       "                    294.0,\n",
       "                    291.5,\n",
       "                    291.5,\n",
       "                    294.0\n",
       "                ],\n",
       "                [\n",
       "                    293.0,\n",
       "                    294.0,\n",
       "                    291.0,\n",
       "                    294.0\n",
       "                ],\n",
       "                [\n",
       "                    296.0,\n",
       "                    297.5,\n",
       "                    295.0,\n",
       "                    298.0\n",
       "                ],\n",
       "                [\n",
       "                    294.5,\n",
       "                    292.0,\n",
       "                    291.0,\n",
       "                    295.0\n",
       "                ],\n",
       "                [\n",
       "                    290.5,\n",
       "                    292.0,\n",
       "                    288.5,\n",
       "                    293.0\n",
       "                ],\n",
       "                [\n",
       "                    295.0,\n",
       "                    295.5,\n",
       "                    293.5,\n",
       "                    297.5\n",
       "                ],\n",
       "                [\n",
       "                    297.0,\n",
       "                    296.5,\n",
       "                    295.5,\n",
       "                    298.0\n",
       "                ],\n",
       "                [\n",
       "                    298.5,\n",
       "                    294.0,\n",
       "                    293.0,\n",
       "                    298.5\n",
       "                ],\n",
       "                [\n",
       "                    292.0,\n",
       "                    292.0,\n",
       "                    290.0,\n",
       "                    292.5\n",
       "                ],\n",
       "                [\n",
       "                    294.0,\n",
       "                    295.5,\n",
       "                    293.5,\n",
       "                    296.5\n",
       "                ],\n",
       "                [\n",
       "                    296.0,\n",
       "                    296.5,\n",
       "                    296.0,\n",
       "                    297.5\n",
       "                ],\n",
       "                [\n",
       "                    300.0,\n",
       "                    301.0,\n",
       "                    298.0,\n",
       "                    301.0\n",
       "                ],\n",
       "                [\n",
       "                    305.0,\n",
       "                    306.0,\n",
       "                    304.0,\n",
       "                    306.0\n",
       "                ],\n",
       "                [\n",
       "                    308.5,\n",
       "                    311.5,\n",
       "                    308.0,\n",
       "                    312.0\n",
       "                ],\n",
       "                [\n",
       "                    316.0,\n",
       "                    318.0,\n",
       "                    315.0,\n",
       "                    319.0\n",
       "                ],\n",
       "                [\n",
       "                    316.5,\n",
       "                    319.0,\n",
       "                    314.0,\n",
       "                    319.0\n",
       "                ],\n",
       "                [\n",
       "                    319.0,\n",
       "                    322.5,\n",
       "                    318.0,\n",
       "                    324.0\n",
       "                ],\n",
       "                [\n",
       "                    325.5,\n",
       "                    320.5,\n",
       "                    318.5,\n",
       "                    327.0\n",
       "                ],\n",
       "                [\n",
       "                    313.0,\n",
       "                    316.0,\n",
       "                    312.5,\n",
       "                    317.5\n",
       "                ],\n",
       "                [\n",
       "                    316.0,\n",
       "                    309.5,\n",
       "                    308.5,\n",
       "                    317.5\n",
       "                ],\n",
       "                [\n",
       "                    317.0,\n",
       "                    315.0,\n",
       "                    314.0,\n",
       "                    317.0\n",
       "                ],\n",
       "                [\n",
       "                    316.5,\n",
       "                    315.0,\n",
       "                    313.5,\n",
       "                    317.0\n",
       "                ],\n",
       "                [\n",
       "                    314.5,\n",
       "                    314.5,\n",
       "                    313.0,\n",
       "                    315.0\n",
       "                ],\n",
       "                [\n",
       "                    314.0,\n",
       "                    314.5,\n",
       "                    312.0,\n",
       "                    314.5\n",
       "                ],\n",
       "                [\n",
       "                    314.5,\n",
       "                    312.0,\n",
       "                    312.0,\n",
       "                    316.5\n",
       "                ],\n",
       "                [\n",
       "                    316.0,\n",
       "                    315.0,\n",
       "                    312.5,\n",
       "                    316.5\n",
       "                ],\n",
       "                [\n",
       "                    319.0,\n",
       "                    317.5,\n",
       "                    316.0,\n",
       "                    320.0\n",
       "                ],\n",
       "                [\n",
       "                    314.0,\n",
       "                    312.0,\n",
       "                    310.0,\n",
       "                    315.0\n",
       "                ],\n",
       "                [\n",
       "                    313.5,\n",
       "                    313.0,\n",
       "                    311.0,\n",
       "                    314.0\n",
       "                ],\n",
       "                [\n",
       "                    315.0,\n",
       "                    317.5,\n",
       "                    314.0,\n",
       "                    318.0\n",
       "                ],\n",
       "                [\n",
       "                    319.0,\n",
       "                    322.0,\n",
       "                    318.0,\n",
       "                    322.0\n",
       "                ],\n",
       "                [\n",
       "                    327.0,\n",
       "                    329.5,\n",
       "                    326.5,\n",
       "                    330.5\n",
       "                ],\n",
       "                [\n",
       "                    332.5,\n",
       "                    338.0,\n",
       "                    332.0,\n",
       "                    338.0\n",
       "                ],\n",
       "                [\n",
       "                    343.5,\n",
       "                    338.5,\n",
       "                    338.0,\n",
       "                    346.0\n",
       "                ],\n",
       "                [\n",
       "                    337.5,\n",
       "                    341.0,\n",
       "                    337.5,\n",
       "                    342.5\n",
       "                ],\n",
       "                [\n",
       "                    346.0,\n",
       "                    345.0,\n",
       "                    343.0,\n",
       "                    347.0\n",
       "                ],\n",
       "                [\n",
       "                    352.5,\n",
       "                    348.5,\n",
       "                    345.5,\n",
       "                    353.0\n",
       "                ],\n",
       "                [\n",
       "                    351.0,\n",
       "                    354.5,\n",
       "                    350.5,\n",
       "                    354.5\n",
       "                ],\n",
       "                [\n",
       "                    355.0,\n",
       "                    363.5,\n",
       "                    354.5,\n",
       "                    364.0\n",
       "                ],\n",
       "                [\n",
       "                    366.0,\n",
       "                    363.0,\n",
       "                    361.0,\n",
       "                    370.0\n",
       "                ],\n",
       "                [\n",
       "                    359.0,\n",
       "                    357.5,\n",
       "                    353.5,\n",
       "                    361.0\n",
       "                ],\n",
       "                [\n",
       "                    361.0,\n",
       "                    367.0,\n",
       "                    360.0,\n",
       "                    369.0\n",
       "                ],\n",
       "                [\n",
       "                    370.0,\n",
       "                    366.0,\n",
       "                    362.5,\n",
       "                    370.0\n",
       "                ],\n",
       "                [\n",
       "                    372.5,\n",
       "                    383.0,\n",
       "                    371.5,\n",
       "                    387.0\n",
       "                ],\n",
       "                [\n",
       "                    381.0,\n",
       "                    384.0,\n",
       "                    379.0,\n",
       "                    386.0\n",
       "                ],\n",
       "                [\n",
       "                    382.0,\n",
       "                    381.5,\n",
       "                    379.0,\n",
       "                    383.0\n",
       "                ],\n",
       "                [\n",
       "                    390.0,\n",
       "                    386.0,\n",
       "                    382.0,\n",
       "                    395.0\n",
       "                ],\n",
       "                [\n",
       "                    420.5,\n",
       "                    424.5,\n",
       "                    416.5,\n",
       "                    424.5\n",
       "                ]\n",
       "            ],\n",
       "            \"itemStyle\": {\n",
       "                \"color\": \"#C23531\",\n",
       "                \"color0\": \"#00da3c\",\n",
       "                \"borderColor\": \"#C23531\",\n",
       "                \"borderColor0\": \"#00da3c\"\n",
       "            }\n",
       "        }\n",
       "    ],\n",
       "    \"legend\": [\n",
       "        {\n",
       "            \"data\": [\n",
       "                \"\\u80a1\\u50f9\"\n",
       "            ],\n",
       "            \"selected\": {\n",
       "                \"\\u80a1\\u50f9\": true\n",
       "            },\n",
       "            \"show\": true,\n",
       "            \"padding\": 5,\n",
       "            \"itemGap\": 10,\n",
       "            \"itemWidth\": 25,\n",
       "            \"itemHeight\": 14\n",
       "        }\n",
       "    ],\n",
       "    \"tooltip\": {\n",
       "        \"show\": true,\n",
       "        \"trigger\": \"axis\",\n",
       "        \"triggerOn\": \"mousemove|click\",\n",
       "        \"axisPointer\": {\n",
       "            \"type\": \"cross\"\n",
       "        },\n",
       "        \"textStyle\": {\n",
       "            \"color\": \"#000\"\n",
       "        },\n",
       "        \"backgroundColor\": \"rgba(245, 245, 245, 0.8)\",\n",
       "        \"borderColor\": \"#ccc\",\n",
       "        \"borderWidth\": 1\n",
       "    },\n",
       "    \"xAxis\": [\n",
       "        {\n",
       "            \"show\": true,\n",
       "            \"scale\": true,\n",
       "            \"nameLocation\": \"end\",\n",
       "            \"nameGap\": 15,\n",
       "            \"gridIndex\": 0,\n",
       "            \"inverse\": false,\n",
       "            \"offset\": 0,\n",
       "            \"splitNumber\": 5,\n",
       "            \"minInterval\": 0,\n",
       "            \"splitLine\": {\n",
       "                \"show\": false,\n",
       "                \"lineStyle\": {\n",
       "                    \"show\": true,\n",
       "                    \"width\": 1,\n",
       "                    \"opacity\": 1,\n",
       "                    \"curveness\": 0,\n",
       "                    \"type\": \"solid\"\n",
       "                }\n",
       "            },\n",
       "            \"data\": [\n",
       "                \"2020-01-02T00:00:00\",\n",
       "                \"2020-01-03T00:00:00\",\n",
       "                \"2020-01-06T00:00:00\",\n",
       "                \"2020-01-07T00:00:00\",\n",
       "                \"2020-01-08T00:00:00\",\n",
       "                \"2020-01-09T00:00:00\",\n",
       "                \"2020-01-10T00:00:00\",\n",
       "                \"2020-01-13T00:00:00\",\n",
       "                \"2020-01-14T00:00:00\",\n",
       "                \"2020-01-15T00:00:00\",\n",
       "                \"2020-01-16T00:00:00\",\n",
       "                \"2020-01-17T00:00:00\",\n",
       "                \"2020-01-20T00:00:00\",\n",
       "                \"2020-01-30T00:00:00\",\n",
       "                \"2020-01-31T00:00:00\",\n",
       "                \"2020-02-03T00:00:00\",\n",
       "                \"2020-02-04T00:00:00\",\n",
       "                \"2020-02-05T00:00:00\",\n",
       "                \"2020-02-06T00:00:00\",\n",
       "                \"2020-02-07T00:00:00\",\n",
       "                \"2020-02-10T00:00:00\",\n",
       "                \"2020-02-11T00:00:00\",\n",
       "                \"2020-02-12T00:00:00\",\n",
       "                \"2020-02-13T00:00:00\",\n",
       "                \"2020-02-14T00:00:00\",\n",
       "                \"2020-02-17T00:00:00\",\n",
       "                \"2020-02-18T00:00:00\",\n",
       "                \"2020-02-19T00:00:00\",\n",
       "                \"2020-02-20T00:00:00\",\n",
       "                \"2020-02-21T00:00:00\",\n",
       "                \"2020-02-24T00:00:00\",\n",
       "                \"2020-02-25T00:00:00\",\n",
       "                \"2020-02-26T00:00:00\",\n",
       "                \"2020-02-27T00:00:00\",\n",
       "                \"2020-03-02T00:00:00\",\n",
       "                \"2020-03-03T00:00:00\",\n",
       "                \"2020-03-04T00:00:00\",\n",
       "                \"2020-03-05T00:00:00\",\n",
       "                \"2020-03-06T00:00:00\",\n",
       "                \"2020-03-09T00:00:00\",\n",
       "                \"2020-03-10T00:00:00\",\n",
       "                \"2020-03-11T00:00:00\",\n",
       "                \"2020-03-12T00:00:00\",\n",
       "                \"2020-03-13T00:00:00\",\n",
       "                \"2020-03-16T00:00:00\",\n",
       "                \"2020-03-17T00:00:00\",\n",
       "                \"2020-03-18T00:00:00\",\n",
       "                \"2020-03-19T00:00:00\",\n",
       "                \"2020-03-20T00:00:00\",\n",
       "                \"2020-03-23T00:00:00\",\n",
       "                \"2020-03-24T00:00:00\",\n",
       "                \"2020-03-25T00:00:00\",\n",
       "                \"2020-03-26T00:00:00\",\n",
       "                \"2020-03-27T00:00:00\",\n",
       "                \"2020-03-30T00:00:00\",\n",
       "                \"2020-03-31T00:00:00\",\n",
       "                \"2020-04-01T00:00:00\",\n",
       "                \"2020-04-06T00:00:00\",\n",
       "                \"2020-04-07T00:00:00\",\n",
       "                \"2020-04-08T00:00:00\",\n",
       "                \"2020-04-09T00:00:00\",\n",
       "                \"2020-04-10T00:00:00\",\n",
       "                \"2020-04-13T00:00:00\",\n",
       "                \"2020-04-14T00:00:00\",\n",
       "                \"2020-04-15T00:00:00\",\n",
       "                \"2020-04-16T00:00:00\",\n",
       "                \"2020-04-17T00:00:00\",\n",
       "                \"2020-04-20T00:00:00\",\n",
       "                \"2020-04-21T00:00:00\",\n",
       "                \"2020-04-22T00:00:00\",\n",
       "                \"2020-04-23T00:00:00\",\n",
       "                \"2020-04-24T00:00:00\",\n",
       "                \"2020-04-27T00:00:00\",\n",
       "                \"2020-04-28T00:00:00\",\n",
       "                \"2020-04-29T00:00:00\",\n",
       "                \"2020-04-30T00:00:00\",\n",
       "                \"2020-05-04T00:00:00\",\n",
       "                \"2020-05-05T00:00:00\",\n",
       "                \"2020-05-06T00:00:00\",\n",
       "                \"2020-05-07T00:00:00\",\n",
       "                \"2020-05-08T00:00:00\",\n",
       "                \"2020-05-11T00:00:00\",\n",
       "                \"2020-05-12T00:00:00\",\n",
       "                \"2020-05-13T00:00:00\",\n",
       "                \"2020-05-14T00:00:00\",\n",
       "                \"2020-05-15T00:00:00\",\n",
       "                \"2020-05-18T00:00:00\",\n",
       "                \"2020-05-19T00:00:00\",\n",
       "                \"2020-05-20T00:00:00\",\n",
       "                \"2020-05-21T00:00:00\",\n",
       "                \"2020-05-22T00:00:00\",\n",
       "                \"2020-05-25T00:00:00\",\n",
       "                \"2020-05-26T00:00:00\",\n",
       "                \"2020-05-27T00:00:00\",\n",
       "                \"2020-05-28T00:00:00\",\n",
       "                \"2020-05-29T00:00:00\",\n",
       "                \"2020-06-01T00:00:00\",\n",
       "                \"2020-06-02T00:00:00\",\n",
       "                \"2020-06-03T00:00:00\",\n",
       "                \"2020-06-04T00:00:00\",\n",
       "                \"2020-06-05T00:00:00\",\n",
       "                \"2020-06-08T00:00:00\",\n",
       "                \"2020-06-09T00:00:00\",\n",
       "                \"2020-06-10T00:00:00\",\n",
       "                \"2020-06-11T00:00:00\",\n",
       "                \"2020-06-12T00:00:00\",\n",
       "                \"2020-06-15T00:00:00\",\n",
       "                \"2020-06-16T00:00:00\",\n",
       "                \"2020-06-17T00:00:00\",\n",
       "                \"2020-06-18T00:00:00\",\n",
       "                \"2020-06-19T00:00:00\",\n",
       "                \"2020-06-22T00:00:00\",\n",
       "                \"2020-06-23T00:00:00\",\n",
       "                \"2020-06-24T00:00:00\",\n",
       "                \"2020-06-29T00:00:00\",\n",
       "                \"2020-06-30T00:00:00\",\n",
       "                \"2020-07-01T00:00:00\",\n",
       "                \"2020-07-02T00:00:00\",\n",
       "                \"2020-07-03T00:00:00\",\n",
       "                \"2020-07-06T00:00:00\",\n",
       "                \"2020-07-07T00:00:00\",\n",
       "                \"2020-07-08T00:00:00\",\n",
       "                \"2020-07-09T00:00:00\",\n",
       "                \"2020-07-10T00:00:00\",\n",
       "                \"2020-07-13T00:00:00\",\n",
       "                \"2020-07-14T00:00:00\",\n",
       "                \"2020-07-15T00:00:00\",\n",
       "                \"2020-07-16T00:00:00\",\n",
       "                \"2020-07-17T00:00:00\",\n",
       "                \"2020-07-20T00:00:00\",\n",
       "                \"2020-07-21T00:00:00\",\n",
       "                \"2020-07-22T00:00:00\",\n",
       "                \"2020-07-23T00:00:00\",\n",
       "                \"2020-07-24T00:00:00\",\n",
       "                \"2020-07-27T00:00:00\"\n",
       "            ]\n",
       "        }\n",
       "    ],\n",
       "    \"yAxis\": [\n",
       "        {\n",
       "            \"show\": true,\n",
       "            \"scale\": true,\n",
       "            \"nameLocation\": \"end\",\n",
       "            \"nameGap\": 15,\n",
       "            \"gridIndex\": 0,\n",
       "            \"inverse\": false,\n",
       "            \"offset\": 0,\n",
       "            \"splitNumber\": 5,\n",
       "            \"minInterval\": 0,\n",
       "            \"splitLine\": {\n",
       "                \"show\": false,\n",
       "                \"lineStyle\": {\n",
       "                    \"show\": true,\n",
       "                    \"width\": 1,\n",
       "                    \"opacity\": 1,\n",
       "                    \"curveness\": 0,\n",
       "                    \"type\": \"solid\"\n",
       "                }\n",
       "            },\n",
       "            \"splitArea\": {\n",
       "                \"show\": true,\n",
       "                \"areaStyle\": {\n",
       "                    \"opacity\": 1\n",
       "                }\n",
       "            }\n",
       "        }\n",
       "    ],\n",
       "    \"title\": [\n",
       "        {\n",
       "            \"text\": \"\\u53f0\\u7a4d\\u96fb(2330)\",\n",
       "            \"padding\": 5,\n",
       "            \"itemGap\": 10\n",
       "        }\n",
       "    ],\n",
       "    \"dataZoom\": [\n",
       "        {\n",
       "            \"show\": true,\n",
       "            \"type\": \"inside\",\n",
       "            \"realtime\": true,\n",
       "            \"start\": 20,\n",
       "            \"end\": 80,\n",
       "            \"orient\": \"horizontal\",\n",
       "            \"zoomLock\": false\n",
       "        },\n",
       "        {\n",
       "            \"show\": true,\n",
       "            \"type\": \"slider\",\n",
       "            \"realtime\": true,\n",
       "            \"start\": 20,\n",
       "            \"end\": 80,\n",
       "            \"orient\": \"horizontal\",\n",
       "            \"zoomLock\": false\n",
       "        }\n",
       "    ]\n",
       "};\n",
       "                chart_0684adda9e8e493baeda8f123a28d536.setOption(option_0684adda9e8e493baeda8f123a28d536);\n",
       "        });\n",
       "    </script>\n"
      ],
      "text/plain": [
       "<pyecharts.render.display.HTML at 0x243b4ce8b88>"
      ]
     },
     "execution_count": 67,
     "metadata": {},
     "output_type": "execute_result"
    }
   ],
   "source": [
    "KBar = [] \n",
    "Date = []\n",
    "開始日=datetime.datetime(2020,1,1)\n",
    "股票代碼='2330.tw'\n",
    "結束日=datetime.datetime(2020,7,31)\n",
    "df=web.DataReader(股票代碼,'yahoo',開始日,結束日)\n",
    "df.reset_index(drop=False, inplace=True)\n",
    "\n",
    "for i in range(0, df.shape[0]):\n",
    "    day = df[\"Date\"][i]\n",
    "    price = [df[\"Open\"][i], df[\"Close\"][i], df[\"Low\"][i], df[\"High\"][i]]\n",
    "    Date.append(day)\n",
    "    KBar.append(price)\n",
    "    \n",
    "kline = Kline()  \n",
    "kline.add_xaxis(xaxis_data = Date) \n",
    "kline.add_yaxis(series_name = \"股價\", \n",
    "                y_axis = KBar,  \n",
    "                itemstyle_opts = opts.ItemStyleOpts(color = \"#C23531\",\n",
    "                                                    color0 = \"#00da3c\", \n",
    "                                                    border_color = \"#C23531\", \n",
    "                                                    border_color0 = \"#00da3c\"),\n",
    "                )\n",
    "kline.set_global_opts(title_opts = opts.TitleOpts(title = \"台積電(2330)\"),\n",
    "                      xaxis_opts = opts.AxisOpts(is_scale = True),\n",
    "                      yaxis_opts = opts.AxisOpts(is_scale = True, splitarea_opts = opts.SplitAreaOpts(is_show = True, areastyle_opts = opts.AreaStyleOpts(opacity=1))), \n",
    "                      datazoom_opts = [opts.DataZoomOpts(type_ = \"inside\"),   \n",
    "                                       opts.DataZoomOpts(is_show=True,  \n",
    "                                                         type_=\"slider\",),\n",
    "                                       ],\n",
    "                      tooltip_opts = opts.TooltipOpts(trigger=\"axis\", \n",
    "                                                      axis_pointer_type=\"cross\", \n",
    "                                                      background_color=\"rgba(245, 245, 245, 0.8)\",\n",
    "                                                      border_width=1,\n",
    "                                                      border_color=\"#ccc\",\n",
    "                                                      textstyle_opts=opts.TextStyleOpts(color=\"#000\"), \n",
    "                                                      ),\n",
    "                      )\n",
    "kline.render_notebook()"
   ]
  },
  {
   "cell_type": "markdown",
   "metadata": {},
   "source": [
    "### **練習 3：畫圖**\n",
    "1. 請畫出Google (GOOG)收盤價時間序列圖。\n",
    "2. 請畫出報酬率的柱狀圖。\n",
    "3. 請同時畫出兩個子圖，累積報酬率圖與交易量圖。"
   ]
  },
  {
   "cell_type": "code",
   "execution_count": null,
   "metadata": {},
   "outputs": [],
   "source": []
  },
  {
   "cell_type": "markdown",
   "metadata": {},
   "source": [
    "------\n",
    "<a id='appendix'></a>\n",
    "## **補充：操作Excel的寫入與寫出方法**\n",
    "[回目錄](#HOME)"
   ]
  },
  {
   "cell_type": "markdown",
   "metadata": {},
   "source": [
    "### **將我們下載好的股價資料儲存到Excel內**\n",
    "- 輸入的參數：\n",
    "    1. Excel的存儲路徑：只需要輸入檔案名稱即可\n",
    "    2. sheet_name：Excel的工作表名稱"
   ]
  },
  {
   "cell_type": "code",
   "execution_count": 68,
   "metadata": {},
   "outputs": [],
   "source": [
    "開始日=datetime.datetime(2020,1,1)\n",
    "股票代碼='2330.tw'\n",
    "結束日=datetime.datetime(2020,7,31)\n",
    "df=web.DataReader(股票代碼,'yahoo',開始日,結束日)\n",
    "df.to_excel('2330.xlsx', sheet_name='股價資料')"
   ]
  },
  {
   "cell_type": "markdown",
   "metadata": {},
   "source": [
    "### **讀取Excel的資料**\n",
    "- 輸入的參數：\n",
    "    1. Excel的存儲路徑：只需要輸入檔案名稱即可\n",
    "    2. sheet_name：Excel的工作表名稱\n",
    "    3. header：用哪一列作列名：一般很少設置\n",
    "    4. index_col：用作索引的欄 (如index_col = 0)"
   ]
  },
  {
   "cell_type": "code",
   "execution_count": 69,
   "metadata": {},
   "outputs": [
    {
     "data": {
      "text/html": [
       "<div>\n",
       "<style scoped>\n",
       "    .dataframe tbody tr th:only-of-type {\n",
       "        vertical-align: middle;\n",
       "    }\n",
       "\n",
       "    .dataframe tbody tr th {\n",
       "        vertical-align: top;\n",
       "    }\n",
       "\n",
       "    .dataframe thead th {\n",
       "        text-align: right;\n",
       "    }\n",
       "</style>\n",
       "<table border=\"1\" class=\"dataframe\">\n",
       "  <thead>\n",
       "    <tr style=\"text-align: right;\">\n",
       "      <th></th>\n",
       "      <th>High</th>\n",
       "      <th>Low</th>\n",
       "      <th>Open</th>\n",
       "      <th>Close</th>\n",
       "      <th>Volume</th>\n",
       "      <th>Adj Close</th>\n",
       "    </tr>\n",
       "    <tr>\n",
       "      <th>Date</th>\n",
       "      <th></th>\n",
       "      <th></th>\n",
       "      <th></th>\n",
       "      <th></th>\n",
       "      <th></th>\n",
       "      <th></th>\n",
       "    </tr>\n",
       "  </thead>\n",
       "  <tbody>\n",
       "    <tr>\n",
       "      <th>2020-07-21</th>\n",
       "      <td>387.0</td>\n",
       "      <td>371.5</td>\n",
       "      <td>372.5</td>\n",
       "      <td>383.0</td>\n",
       "      <td>64219128</td>\n",
       "      <td>383.0</td>\n",
       "    </tr>\n",
       "    <tr>\n",
       "      <th>2020-07-22</th>\n",
       "      <td>386.0</td>\n",
       "      <td>379.0</td>\n",
       "      <td>381.0</td>\n",
       "      <td>384.0</td>\n",
       "      <td>43759670</td>\n",
       "      <td>384.0</td>\n",
       "    </tr>\n",
       "    <tr>\n",
       "      <th>2020-07-23</th>\n",
       "      <td>383.0</td>\n",
       "      <td>379.0</td>\n",
       "      <td>382.0</td>\n",
       "      <td>381.5</td>\n",
       "      <td>45209282</td>\n",
       "      <td>381.5</td>\n",
       "    </tr>\n",
       "    <tr>\n",
       "      <th>2020-07-24</th>\n",
       "      <td>395.0</td>\n",
       "      <td>382.0</td>\n",
       "      <td>390.0</td>\n",
       "      <td>386.0</td>\n",
       "      <td>86682734</td>\n",
       "      <td>386.0</td>\n",
       "    </tr>\n",
       "    <tr>\n",
       "      <th>2020-07-27</th>\n",
       "      <td>424.5</td>\n",
       "      <td>416.5</td>\n",
       "      <td>420.5</td>\n",
       "      <td>424.5</td>\n",
       "      <td>98932000</td>\n",
       "      <td>424.5</td>\n",
       "    </tr>\n",
       "  </tbody>\n",
       "</table>\n",
       "</div>"
      ],
      "text/plain": [
       "             High    Low   Open  Close    Volume  Adj Close\n",
       "Date                                                       \n",
       "2020-07-21  387.0  371.5  372.5  383.0  64219128      383.0\n",
       "2020-07-22  386.0  379.0  381.0  384.0  43759670      384.0\n",
       "2020-07-23  383.0  379.0  382.0  381.5  45209282      381.5\n",
       "2020-07-24  395.0  382.0  390.0  386.0  86682734      386.0\n",
       "2020-07-27  424.5  416.5  420.5  424.5  98932000      424.5"
      ]
     },
     "execution_count": 69,
     "metadata": {},
     "output_type": "execute_result"
    }
   ],
   "source": [
    "data = pd.read_excel('2330.xlsx', sheet_name = '股價資料', header=0, index_col=0)\n",
    "data.tail()"
   ]
  }
 ],
 "metadata": {
  "hide_input": false,
  "kernelspec": {
   "display_name": "Python 3",
   "language": "python",
   "name": "python3"
  },
  "language_info": {
   "codemirror_mode": {
    "name": "ipython",
    "version": 3
   },
   "file_extension": ".py",
   "mimetype": "text/x-python",
   "name": "python",
   "nbconvert_exporter": "python",
   "pygments_lexer": "ipython3",
   "version": "3.7.6"
  },
  "varInspector": {
   "cols": {
    "lenName": 16,
    "lenType": 16,
    "lenVar": 40
   },
   "kernels_config": {
    "python": {
     "delete_cmd_postfix": "",
     "delete_cmd_prefix": "del ",
     "library": "var_list.py",
     "varRefreshCmd": "print(var_dic_list())"
    },
    "r": {
     "delete_cmd_postfix": ") ",
     "delete_cmd_prefix": "rm(",
     "library": "var_list.r",
     "varRefreshCmd": "cat(var_dic_list()) "
    }
   },
   "types_to_exclude": [
    "module",
    "function",
    "builtin_function_or_method",
    "instance",
    "_Feature"
   ],
   "window_display": false
  }
 },
 "nbformat": 4,
 "nbformat_minor": 4
}
